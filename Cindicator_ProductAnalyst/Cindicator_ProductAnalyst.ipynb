{
  "nbformat": 4,
  "nbformat_minor": 0,
  "metadata": {
    "colab": {
      "name": "Cindicator_ProductAnalyst_v2.ipynb",
      "provenance": [],
      "collapsed_sections": [
        "wKTJyTgPdPH-"
      ]
    },
    "kernelspec": {
      "display_name": "Python 3",
      "name": "python3"
    }
  },
  "cells": [
    {
      "cell_type": "markdown",
      "metadata": {
        "id": "PgDBtCW7Mbo4"
      },
      "source": [
        "# Тестовое задание Product Analyst\n",
        "---\n",
        "\n",
        "В продукте Stoic решили провести эксперимент, призванный улучшить конверсию C1 (sign-up->purchase) в мобильных приложениях Stoic на обеих платформах. Для этого в приложении изменили порядок шагов в воронке, поставив шаг воронки «платеж» раньше, чем шаг воронки «привязка кошелька». Версия появилась в сторах 19.12.2020.\n",
        "\n",
        "Файл с данными размещен по [ссылке](https://docs.google.com/spreadsheets/d/1p7I1lresp_R6BrT-HqnLn5Og9joQW86Qq__Vsd5Fe2s/edit?usp=sharing). \n",
        "\n",
        "Задачи:\n",
        "\n",
        "\n",
        "\n",
        "1.   Используя данные выгрузок из внутренней платежной системы (payments) и из аналитической системы (sign-ups), определите, получилось ли добиться цели эксперимента, произведя необходимые расчеты и описав методологию расчётов и выводы в документе. Для решения задачи можно использовать любой аналитический пакет (Python, R, Excel, Spreadsheets etc), приложите код/файл с расчетами вместе с документом с выводами.\n",
        "2.   Если возможно, определите наиболее эффективные каналы привлечения и другие важные параметры юнит-экономики продукта, которые заметите на основе данных из п.1.\n",
        "3.   Определите потенциальные проблемные зоны в механизмах сбора данных.\n",
        "\n",
        "\n",
        "\n",
        "\n",
        "\n",
        "\n",
        "\n"
      ]
    },
    {
      "cell_type": "markdown",
      "metadata": {
        "id": "U-2NC7HzNLEl"
      },
      "source": [
        "## Ипорт и загрузка данных\n"
      ]
    },
    {
      "cell_type": "code",
      "metadata": {
        "id": "16bLgORKz-38"
      },
      "source": [
        "import pandas as pd\n",
        "import numpy as np\n",
        "import math as mth\n",
        "import scipy.stats as st\n",
        "\n",
        "import requests\n",
        "\n",
        "import plotly.express as px\n",
        "import plotly.graph_objects as go\n",
        "from plotly.subplots import make_subplots\n",
        "\n",
        "# from pymystem3 import Mystem\n",
        "# from collections import Counter"
      ],
      "execution_count": null,
      "outputs": []
    },
    {
      "cell_type": "code",
      "metadata": {
        "colab": {
          "base_uri": "https://localhost:8080/",
          "height": 204
        },
        "id": "k7zWZVQB1nRh",
        "outputId": "a36aef41-cd62-425c-e950-a11f27fad389"
      },
      "source": [
        "# Загружаем в DataFrame данные из листа payments\n",
        "sheet_url = 'https://docs.google.com/spreadsheets/d/1p7I1lresp_R6BrT-HqnLn5Og9joQW86Qq__Vsd5Fe2s/edit#gid=0'\n",
        "csv_export_url = sheet_url.replace('/edit#gid=', '/export?format=csv&gid=')\n",
        "payments = pd.read_csv(csv_export_url, sep=',')\n",
        "\n",
        "# Немного красоты и удобства в заголовках \n",
        "payments.columns = payments.columns.str.lower()\n",
        "payments.rename(columns={'payment dt': 'payment_dt'}, inplace=True)\n",
        "\n",
        "# payments.columns = payments.columns.str.lower()\n",
        "payments.head()"
      ],
      "execution_count": null,
      "outputs": [
        {
          "output_type": "execute_result",
          "data": {
            "text/html": [
              "<div>\n",
              "<style scoped>\n",
              "    .dataframe tbody tr th:only-of-type {\n",
              "        vertical-align: middle;\n",
              "    }\n",
              "\n",
              "    .dataframe tbody tr th {\n",
              "        vertical-align: top;\n",
              "    }\n",
              "\n",
              "    .dataframe thead th {\n",
              "        text-align: right;\n",
              "    }\n",
              "</style>\n",
              "<table border=\"1\" class=\"dataframe\">\n",
              "  <thead>\n",
              "    <tr style=\"text-align: right;\">\n",
              "      <th></th>\n",
              "      <th>email</th>\n",
              "      <th>amount</th>\n",
              "      <th>balance</th>\n",
              "      <th>payment_dt</th>\n",
              "    </tr>\n",
              "  </thead>\n",
              "  <tbody>\n",
              "    <tr>\n",
              "      <th>0</th>\n",
              "      <td>petersciolto@gmail.com</td>\n",
              "      <td>50.0</td>\n",
              "      <td>1000.0</td>\n",
              "      <td>1/10/2021 23:13:38</td>\n",
              "    </tr>\n",
              "    <tr>\n",
              "      <th>1</th>\n",
              "      <td>chappelusa@hotmail.com</td>\n",
              "      <td>50.0</td>\n",
              "      <td>1000.0</td>\n",
              "      <td>1/10/2021 21:28:32</td>\n",
              "    </tr>\n",
              "    <tr>\n",
              "      <th>2</th>\n",
              "      <td>brianbutcher@mail.com</td>\n",
              "      <td>50.0</td>\n",
              "      <td>1000.0</td>\n",
              "      <td>1/10/2021 19:19:40</td>\n",
              "    </tr>\n",
              "    <tr>\n",
              "      <th>3</th>\n",
              "      <td>svarmuza@gmail.com</td>\n",
              "      <td>50.0</td>\n",
              "      <td>1000.0</td>\n",
              "      <td>1/10/2021 18:47:52</td>\n",
              "    </tr>\n",
              "    <tr>\n",
              "      <th>4</th>\n",
              "      <td>chalotteframe@icloud.com</td>\n",
              "      <td>50.0</td>\n",
              "      <td>1000.0</td>\n",
              "      <td>1/10/2021 18:34:19</td>\n",
              "    </tr>\n",
              "  </tbody>\n",
              "</table>\n",
              "</div>"
            ],
            "text/plain": [
              "                      email  amount  balance          payment_dt\n",
              "0    petersciolto@gmail.com    50.0   1000.0  1/10/2021 23:13:38\n",
              "1    chappelusa@hotmail.com    50.0   1000.0  1/10/2021 21:28:32\n",
              "2     brianbutcher@mail.com    50.0   1000.0  1/10/2021 19:19:40\n",
              "3        svarmuza@gmail.com    50.0   1000.0  1/10/2021 18:47:52\n",
              "4  chalotteframe@icloud.com    50.0   1000.0  1/10/2021 18:34:19"
            ]
          },
          "metadata": {
            "tags": []
          },
          "execution_count": 2
        }
      ]
    },
    {
      "cell_type": "code",
      "metadata": {
        "colab": {
          "base_uri": "https://localhost:8080/",
          "height": 360
        },
        "id": "am-QOas823gI",
        "outputId": "31e5670b-42f2-4e93-dccf-e26b3b065604"
      },
      "source": [
        "# Загружаем в DataFrame данные из листа sign-ups\n",
        "sheet_url = 'https://docs.google.com/spreadsheets/d/1p7I1lresp_R6BrT-HqnLn5Og9joQW86Qq__Vsd5Fe2s/edit#gid=347578162'\n",
        "csv_export_url = sheet_url.replace('/edit#gid=', '/export?format=csv&gid=')               \n",
        "sign_ups = pd.read_csv(csv_export_url, sep=',', skipinitialspace=True)\n",
        "sign_ups.head()"
      ],
      "execution_count": null,
      "outputs": [
        {
          "output_type": "execute_result",
          "data": {
            "text/html": [
              "<div>\n",
              "<style scoped>\n",
              "    .dataframe tbody tr th:only-of-type {\n",
              "        vertical-align: middle;\n",
              "    }\n",
              "\n",
              "    .dataframe tbody tr th {\n",
              "        vertical-align: top;\n",
              "    }\n",
              "\n",
              "    .dataframe thead th {\n",
              "        text-align: right;\n",
              "    }\n",
              "</style>\n",
              "<table border=\"1\" class=\"dataframe\">\n",
              "  <thead>\n",
              "    <tr style=\"text-align: right;\">\n",
              "      <th></th>\n",
              "      <th>\\tamplitude_id</th>\n",
              "      <th>\\tcarrier</th>\n",
              "      <th>\\tcity</th>\n",
              "      <th>\\tcountry</th>\n",
              "      <th>\\tdevice</th>\n",
              "      <th>\\tdevice_type</th>\n",
              "      <th>\\tdma</th>\n",
              "      <th>\\tip_address</th>\n",
              "      <th>\\tlanguage</th>\n",
              "      <th>\\tlibrary</th>\n",
              "      <th>\\tos</th>\n",
              "      <th>\\tplatform</th>\n",
              "      <th>\\tregion</th>\n",
              "      <th>\\tstart_version</th>\n",
              "      <th>\\tversion</th>\n",
              "      <th>\\tgp:CAPMAIGN</th>\n",
              "      <th>\\tgp:COHORT_DAY</th>\n",
              "      <th>\\tgp:COHORT_MONTH</th>\n",
              "      <th>\\tgp:COHORT_WEEK</th>\n",
              "      <th>\\tgp:COHORT_YEAR</th>\n",
              "      <th>\\tgp:IS_DEMO</th>\n",
              "      <th>gp:MEDIA_SOURCE</th>\n",
              "      <th>\\tgp:USER_ID</th>\n",
              "    </tr>\n",
              "  </thead>\n",
              "  <tbody>\n",
              "    <tr>\n",
              "      <th>0</th>\n",
              "      <td>41155702895</td>\n",
              "      <td>\\tBell</td>\n",
              "      <td>\\tLaval</td>\n",
              "      <td>\\tCanada</td>\n",
              "      <td>\\tApple iPhone</td>\n",
              "      <td>\\tApple iPhone 8</td>\n",
              "      <td>\\t</td>\n",
              "      <td>\\t192.222.239.121</td>\n",
              "      <td>\\tEnglish</td>\n",
              "      <td>\\tamplitude-ios/4.10.0</td>\n",
              "      <td>\\tios 13.4.1</td>\n",
              "      <td>\\tiOS</td>\n",
              "      <td>\\tQuebec</td>\n",
              "      <td>16.0</td>\n",
              "      <td>16.0</td>\n",
              "      <td>\\tApple Store Website Link</td>\n",
              "      <td>6</td>\n",
              "      <td>1</td>\n",
              "      <td>2</td>\n",
              "      <td>2021</td>\n",
              "      <td>\\t</td>\n",
              "      <td>\\tCindicator Website</td>\n",
              "      <td>\\tinsidebar@protonmail.com</td>\n",
              "    </tr>\n",
              "    <tr>\n",
              "      <th>1</th>\n",
              "      <td>42912229947</td>\n",
              "      <td>\\tTele2</td>\n",
              "      <td>\\tMoscow</td>\n",
              "      <td>\\tRussia</td>\n",
              "      <td>\\tApple iPhone</td>\n",
              "      <td>\\tiPhone 11 Pro</td>\n",
              "      <td>\\t</td>\n",
              "      <td>\\t176.59.43.9</td>\n",
              "      <td>\\tEnglish</td>\n",
              "      <td>\\tamplitude-ios/4.10.0</td>\n",
              "      <td>\\tios 14.1</td>\n",
              "      <td>\\tiOS</td>\n",
              "      <td>\\tMoscow</td>\n",
              "      <td>16.0</td>\n",
              "      <td>16.0</td>\n",
              "      <td>\\t</td>\n",
              "      <td>1</td>\n",
              "      <td>1</td>\n",
              "      <td>53</td>\n",
              "      <td>2021</td>\n",
              "      <td>\\tTrue</td>\n",
              "      <td>\\t</td>\n",
              "      <td>\\ttalkshowhost23@gmail.com</td>\n",
              "    </tr>\n",
              "    <tr>\n",
              "      <th>2</th>\n",
              "      <td>159955861327</td>\n",
              "      <td>\\tAT&amp;T</td>\n",
              "      <td>\\tBradenton</td>\n",
              "      <td>\\tUnited States</td>\n",
              "      <td>\\tApple iPhone</td>\n",
              "      <td>\\tiPhone XR</td>\n",
              "      <td>\\tTampa-St Petersburg (Sarasota), FL</td>\n",
              "      <td>\\t96.59.200.237</td>\n",
              "      <td>\\tEnglish</td>\n",
              "      <td>\\tamplitude-ios/4.10.0</td>\n",
              "      <td>\\tios 14.2</td>\n",
              "      <td>\\tiOS</td>\n",
              "      <td>\\tFlorida</td>\n",
              "      <td>16.0</td>\n",
              "      <td>16.0</td>\n",
              "      <td>\\tCindicator Website QR</td>\n",
              "      <td>6</td>\n",
              "      <td>1</td>\n",
              "      <td>2</td>\n",
              "      <td>2021</td>\n",
              "      <td>\\tTrue</td>\n",
              "      <td>\\tQR_code</td>\n",
              "      <td>\\tnumanmete@gmail.com</td>\n",
              "    </tr>\n",
              "    <tr>\n",
              "      <th>3</th>\n",
              "      <td>221417831075</td>\n",
              "      <td>\\tVerizon</td>\n",
              "      <td>\\tColumbus</td>\n",
              "      <td>\\tUnited States</td>\n",
              "      <td>\\tApple iPhone</td>\n",
              "      <td>\\tApple iPhone 12 Mini</td>\n",
              "      <td>\\tColumbus, OH</td>\n",
              "      <td>\\t66.115.189.206</td>\n",
              "      <td>\\tEnglish</td>\n",
              "      <td>\\tamplitude-ios/4.10.0</td>\n",
              "      <td>\\tios 14.2.1</td>\n",
              "      <td>\\tiOS</td>\n",
              "      <td>\\tOhio</td>\n",
              "      <td>16.0</td>\n",
              "      <td>16.0</td>\n",
              "      <td>\\tApple Store Website Link</td>\n",
              "      <td>1</td>\n",
              "      <td>1</td>\n",
              "      <td>1</td>\n",
              "      <td>2021</td>\n",
              "      <td>\\tTrue</td>\n",
              "      <td>\\tCindicator Website</td>\n",
              "      <td>\\tshaunlentini@gmail.com</td>\n",
              "    </tr>\n",
              "    <tr>\n",
              "      <th>4</th>\n",
              "      <td>221439782047</td>\n",
              "      <td>\\tTelstra</td>\n",
              "      <td>\\tMelbourne</td>\n",
              "      <td>\\tAustralia</td>\n",
              "      <td>\\tSamsung Galaxy Note</td>\n",
              "      <td>\\tSamsung Galaxy Note 10+</td>\n",
              "      <td>\\t</td>\n",
              "      <td>\\t116.255.20.90</td>\n",
              "      <td>\\tEnglish</td>\n",
              "      <td>\\tamplitude-android/2.25.2</td>\n",
              "      <td>\\tandroid 10</td>\n",
              "      <td>\\tAndroid</td>\n",
              "      <td>\\tVictoria</td>\n",
              "      <td>19.0</td>\n",
              "      <td>19.0</td>\n",
              "      <td>\\t</td>\n",
              "      <td>\\t</td>\n",
              "      <td>\\t</td>\n",
              "      <td>\\t</td>\n",
              "      <td>\\t</td>\n",
              "      <td>\\tTrue</td>\n",
              "      <td>\\t</td>\n",
              "      <td>\\tnajmulq@gmail.com</td>\n",
              "    </tr>\n",
              "  </tbody>\n",
              "</table>\n",
              "</div>"
            ],
            "text/plain": [
              "   \\tamplitude_id  \\tcarrier  ...       gp:MEDIA_SOURCE                \\tgp:USER_ID\n",
              "0     41155702895     \\tBell  ...  \\tCindicator Website  \\tinsidebar@protonmail.com\n",
              "1     42912229947    \\tTele2  ...                    \\t  \\ttalkshowhost23@gmail.com\n",
              "2    159955861327     \\tAT&T  ...             \\tQR_code       \\tnumanmete@gmail.com\n",
              "3    221417831075  \\tVerizon  ...  \\tCindicator Website    \\tshaunlentini@gmail.com\n",
              "4    221439782047  \\tTelstra  ...                    \\t         \\tnajmulq@gmail.com\n",
              "\n",
              "[5 rows x 23 columns]"
            ]
          },
          "metadata": {
            "tags": []
          },
          "execution_count": 3
        }
      ]
    },
    {
      "cell_type": "markdown",
      "metadata": {
        "id": "ZN1Kcwm4O-c1"
      },
      "source": [
        "А вот и первая потенциальная проблема сбора данных - непечатные символы. Визуальный анализ исходного файла и некоторые манипуляции в Python говорят о наличии табуляции в текстовых строках. Похоже, что на каком-то из этапов ETL что-то пошло не так. Конечно данная неприятность не является критической и с ней можно жить, но как-то не классно, когда в данных есть артефакты. Если есть ресурсы, то надо бы разобраться в причинах и починить. А пока очистим данные \"руками\". \n"
      ]
    },
    {
      "cell_type": "code",
      "metadata": {
        "id": "GCYRBiiKHQw_",
        "colab": {
          "base_uri": "https://localhost:8080/"
        },
        "outputId": "1392ffb8-9e7e-4d71-ec1c-15b748b727ae"
      },
      "source": [
        "# Чистим заголовки таблицы\n",
        "sign_ups.columns = sign_ups.columns.str.replace('\\t', '')\n",
        "sign_ups.columns = sign_ups.columns.str.lower()\n",
        "\n",
        "# Чистим сами данные\n",
        "for i in sign_ups.columns:\n",
        "  if sign_ups[i].dtype == 'object':\n",
        "    # print(i, sign_ups[i].dtype)\n",
        "    sign_ups[i] = sign_ups[i].str.strip('\\t')\n",
        "    zero = sign_ups[sign_ups[i]==''][i].count() #\n",
        "    sign_ups[i] = sign_ups[i].replace('', np.nan)\n",
        "    print('В переменной {} было произведено {} замен \"пустоты\" на NaN'.format(i, zero))"
      ],
      "execution_count": null,
      "outputs": [
        {
          "output_type": "stream",
          "text": [
            "В переменной carrier было произведено 289 замен \"пустоты\" на NaN\n",
            "В переменной city было произведено 447 замен \"пустоты\" на NaN\n",
            "В переменной country было произведено 0 замен \"пустоты\" на NaN\n",
            "В переменной device было произведено 0 замен \"пустоты\" на NaN\n",
            "В переменной device_type было произведено 2752 замен \"пустоты\" на NaN\n",
            "В переменной dma было произведено 5073 замен \"пустоты\" на NaN\n",
            "В переменной ip_address было произведено 0 замен \"пустоты\" на NaN\n",
            "В переменной language было произведено 0 замен \"пустоты\" на NaN\n",
            "В переменной library было произведено 0 замен \"пустоты\" на NaN\n",
            "В переменной os было произведено 0 замен \"пустоты\" на NaN\n",
            "В переменной platform было произведено 0 замен \"пустоты\" на NaN\n",
            "В переменной region было произведено 414 замен \"пустоты\" на NaN\n",
            "В переменной gp:capmaign было произведено 2368 замен \"пустоты\" на NaN\n",
            "В переменной gp:cohort_day было произведено 4954 замен \"пустоты\" на NaN\n",
            "В переменной gp:cohort_month было произведено 4954 замен \"пустоты\" на NaN\n",
            "В переменной gp:cohort_week было произведено 4954 замен \"пустоты\" на NaN\n",
            "В переменной gp:cohort_year было произведено 4954 замен \"пустоты\" на NaN\n",
            "В переменной gp:is_demo было произведено 1441 замен \"пустоты\" на NaN\n",
            "В переменной gp:media_source было произведено 2368 замен \"пустоты\" на NaN\n",
            "В переменной gp:user_id было произведено 0 замен \"пустоты\" на NaN\n"
          ],
          "name": "stdout"
        }
      ]
    },
    {
      "cell_type": "markdown",
      "metadata": {
        "id": "ip0mHr8cA0px"
      },
      "source": [
        "# Ответ на вопрос №1"
      ]
    },
    {
      "cell_type": "markdown",
      "metadata": {
        "id": "hih-GiqJBaEp"
      },
      "source": [
        "Первоочередная задача - оценить результаты проведенного эксперимента. Поэтому в данном разделе я сфокусируюсь именно на ней. И буду обрабатывать/проверять/чистить только те данные, которые, как мне кажется, необходимы для ответа на поставленный вопрос. А все дополнительные изыскания по предоставленным данным сделаю в следующем разделе. \n"
      ]
    },
    {
      "cell_type": "markdown",
      "metadata": {
        "id": "MY0Ntr3GBd9_"
      },
      "source": [
        "Шаг №1 - объединить данные в единую таблицу.\n"
      ]
    },
    {
      "cell_type": "code",
      "metadata": {
        "id": "_DZqll6hA4PB"
      },
      "source": [
        "payments.set_index('email', inplace=True)\n",
        "sign_ups.rename(columns={'gp:user_id': 'email'}, inplace=True)\n",
        "sign_ups.set_index('email', inplace=True)\n",
        "\n",
        "# df - не самое осмысленное название, но сделал это специально, для краткости. \n",
        "df = pd.merge(sign_ups, payments, how='left', left_index=True, right_index=True).reset_index()"
      ],
      "execution_count": null,
      "outputs": []
    },
    {
      "cell_type": "markdown",
      "metadata": {
        "id": "0I6ix0qlC6tk"
      },
      "source": [
        "Шаг №2 - разобраться с датами. Если с `payment_dt` все более-менее понятно, то вот с когортами есть вопрос. Являются ли данные в столбцах с названиями `gp:cohort_day` ,`gp:cohort_month`, `gp:cohort_week` и `gp:cohort_year` датами? И если да, то почему они так странно записаны? Зачем их разнесли на составляющие?\n"
      ]
    },
    {
      "cell_type": "code",
      "metadata": {
        "colab": {
          "base_uri": "https://localhost:8080/"
        },
        "id": "Oy8SWvV_C6Xf",
        "outputId": "b9c464e5-003a-4248-f230-e0b0d43a8296"
      },
      "source": [
        "for i in ['gp:cohort_day', 'gp:cohort_month', 'gp:cohort_year']:\n",
        "  result = sorted(df[df[i].notnull()][i].unique().astype('int32'))\n",
        "  print(result)"
      ],
      "execution_count": null,
      "outputs": [
        {
          "output_type": "stream",
          "text": [
            "[1, 2, 3, 4, 5, 6, 7, 8, 9, 10, 11, 12, 13, 14, 15, 16, 17, 18, 19, 20, 21, 22, 23, 24, 25, 26, 27, 28, 29, 30, 31]\n",
            "[1, 10, 11, 12]\n",
            "[2020, 2021, 2563, 2564]\n"
          ],
          "name": "stdout"
        }
      ]
    },
    {
      "cell_type": "markdown",
      "metadata": {
        "id": "isQKr0LfMnxH"
      },
      "source": [
        "Похоже, что это все же действительно даты. Остается вопрос - почему они хранятся в таком странном формате? И что за путешественники из будущего посещают приложение?) Исправим это и соединим дату когорты в дату."
      ]
    },
    {
      "cell_type": "code",
      "metadata": {
        "id": "BkOsEo9tBx6-"
      },
      "source": [
        "# Выясняем настоящий год когорты по месяцу\n",
        "# df[(df['gp:cohort_year']=='2563')|(df['gp:cohort_year']=='2564')][['gp:cohort_year', 'gp:cohort_month']]\n",
        "\n",
        "# Исправляем\n",
        "df['gp:cohort_year'].replace('2564', '2021', inplace=True)\n",
        "df['gp:cohort_year'].replace('2563', '2020', inplace=True)\n",
        "\n",
        "df['cohort_date'] =  df['gp:cohort_year'] + '-' \\\n",
        "  + df['gp:cohort_month'] + '-' +df['gp:cohort_day'] \n",
        "\n",
        "# Меняем формат данных\n",
        "df['cohort_date'] = pd.to_datetime(df['cohort_date'])\n",
        "df['payment_dt'] = pd.to_datetime(df['payment_dt'])\n",
        "df['payment_date'] = df['payment_dt'].dt.date.astype('datetime64')\n",
        "df['payment_time'] = df['payment_dt'].dt.time\n",
        "\n",
        "\n",
        "# Удалим лишнее\n",
        "df.drop(['gp:cohort_year', 'gp:cohort_month', 'gp:cohort_day', 'gp:cohort_week', 'payment_dt'], axis=1, inplace=True)"
      ],
      "execution_count": null,
      "outputs": []
    },
    {
      "cell_type": "markdown",
      "metadata": {
        "id": "hNQNqJtwQ3CX"
      },
      "source": [
        "Шаг №3 - изучим имеющийся временной диапазон по датам когорт и по датам оплат. \n",
        "\n",
        "(!) В предоставленных материалах ничего не сказано про когорты, по какому признаку они сформированы. Поэтому буду считать, что пользователь попадает в когорту когда первый раз скачивает/запускает приложение. "
      ]
    },
    {
      "cell_type": "code",
      "metadata": {
        "colab": {
          "base_uri": "https://localhost:8080/"
        },
        "id": "QjBlhar5PW3F",
        "outputId": "ab531467-ff48-48d8-e8d8-2aab4b483890"
      },
      "source": [
        "for i in ['cohort_date', 'payment_date']:\n",
        "  print('{}: {} - {}'.format(i, df[i].min(), df[i].max()))"
      ],
      "execution_count": null,
      "outputs": [
        {
          "output_type": "stream",
          "text": [
            "cohort_date: 2020-10-31 00:00:00 - 2021-01-12 00:00:00\n",
            "payment_date: 2020-11-27 00:00:00 - 2021-01-10 00:00:00\n"
          ],
          "name": "stdout"
        }
      ]
    },
    {
      "cell_type": "markdown",
      "metadata": {
        "id": "oKt9mLWzRvyp"
      },
      "source": [
        "Периоды совпадают. Точнее `cohort_date` чуть больше чем `payment_dt` и это хорошо. Значит можно будет посчитать конверсию из пользователей запустивших приложение в оплату на протяжении всего эксперимента ) \n",
        "\n",
        "Для дальнейшего удобства работы с данными распределим пользователей по группам эксперимента (А/В)"
      ]
    },
    {
      "cell_type": "code",
      "metadata": {
        "id": "tAFuoVSkPWrs"
      },
      "source": [
        "df.loc[(df['payment_date']<'2020-12-19')|(df['cohort_date']<'2020-12-19'), 'group'] = 'A'\n",
        "df.loc[(df['payment_date']>='2020-12-19')|(df['cohort_date']>='2020-12-19'), 'group'] = 'B'"
      ],
      "execution_count": null,
      "outputs": []
    },
    {
      "cell_type": "markdown",
      "metadata": {
        "id": "kEbGvOUvvwOC"
      },
      "source": [
        "Шаг №4 - оценим количество пользователей, наличие дублей и нет ли каких-то пользователей сразу в двух группах эксперимента. "
      ]
    },
    {
      "cell_type": "code",
      "metadata": {
        "colab": {
          "base_uri": "https://localhost:8080/"
        },
        "id": "h9PytFpmv_Nm",
        "outputId": "4c71ca2a-14c5-4387-9873-7aebe7a022f9"
      },
      "source": [
        "df.info()"
      ],
      "execution_count": null,
      "outputs": [
        {
          "output_type": "stream",
          "text": [
            "<class 'pandas.core.frame.DataFrame'>\n",
            "RangeIndex: 6382 entries, 0 to 6381\n",
            "Data columns (total 25 columns):\n",
            " #   Column           Non-Null Count  Dtype         \n",
            "---  ------           --------------  -----         \n",
            " 0   email            6382 non-null   object        \n",
            " 1   amplitude_id     6382 non-null   int64         \n",
            " 2   carrier          6093 non-null   object        \n",
            " 3   city             5935 non-null   object        \n",
            " 4   country          6382 non-null   object        \n",
            " 5   device           6382 non-null   object        \n",
            " 6   device_type      3630 non-null   object        \n",
            " 7   dma              1309 non-null   object        \n",
            " 8   ip_address       6382 non-null   object        \n",
            " 9   language         6382 non-null   object        \n",
            " 10  library          6382 non-null   object        \n",
            " 11  os               6382 non-null   object        \n",
            " 12  platform         6382 non-null   object        \n",
            " 13  region           5968 non-null   object        \n",
            " 14  start_version    6382 non-null   float64       \n",
            " 15  version          6382 non-null   float64       \n",
            " 16  gp:capmaign      4014 non-null   object        \n",
            " 17  gp:is_demo       4941 non-null   object        \n",
            " 18  gp:media_source  4014 non-null   object        \n",
            " 19  amount           246 non-null    float64       \n",
            " 20  balance          246 non-null    float64       \n",
            " 21  cohort_date      1428 non-null   datetime64[ns]\n",
            " 22  payment_date     246 non-null    datetime64[ns]\n",
            " 23  payment_time     246 non-null    object        \n",
            " 24  group            1569 non-null   object        \n",
            "dtypes: datetime64[ns](2), float64(4), int64(1), object(18)\n",
            "memory usage: 1.2+ MB\n"
          ],
          "name": "stdout"
        }
      ]
    },
    {
      "cell_type": "code",
      "metadata": {
        "colab": {
          "base_uri": "https://localhost:8080/"
        },
        "id": "hokl4C5UvbFE",
        "outputId": "3eb3a6c7-2d44-4503-fd9b-ee10ea6f7eae"
      },
      "source": [
        "email = df['email'].nunique()\n",
        "ampid = df['amplitude_id'].nunique()\n",
        "\n",
        "print('unique_email: {}\\n'\n",
        "      'unique_amplitude_id: {}'.format(email, ampid))"
      ],
      "execution_count": null,
      "outputs": [
        {
          "output_type": "stream",
          "text": [
            "unique_email: 6369\n",
            "unique_amplitude_id: 6382\n"
          ],
          "name": "stdout"
        }
      ]
    },
    {
      "cell_type": "markdown",
      "metadata": {
        "id": "_QVxtxmeyXXy"
      },
      "source": [
        "Достаточно большое количество пропусков в данных (это отдельный вопрос), но сейчас хочется понять что за дубликаты в `email`"
      ]
    },
    {
      "cell_type": "code",
      "metadata": {
        "colab": {
          "base_uri": "https://localhost:8080/",
          "height": 731
        },
        "id": "QF2nRvkVr3_r",
        "outputId": "06c24796-fce7-4ef9-8833-cb9dc6be72f1"
      },
      "source": [
        "df[df['email'].duplicated(False)][['email', 'amplitude_id', 'gp:is_demo', 'group', 'device', 'ip_address']]"
      ],
      "execution_count": null,
      "outputs": [
        {
          "output_type": "execute_result",
          "data": {
            "text/html": [
              "<div>\n",
              "<style scoped>\n",
              "    .dataframe tbody tr th:only-of-type {\n",
              "        vertical-align: middle;\n",
              "    }\n",
              "\n",
              "    .dataframe tbody tr th {\n",
              "        vertical-align: top;\n",
              "    }\n",
              "\n",
              "    .dataframe thead th {\n",
              "        text-align: right;\n",
              "    }\n",
              "</style>\n",
              "<table border=\"1\" class=\"dataframe\">\n",
              "  <thead>\n",
              "    <tr style=\"text-align: right;\">\n",
              "      <th></th>\n",
              "      <th>email</th>\n",
              "      <th>amplitude_id</th>\n",
              "      <th>gp:is_demo</th>\n",
              "      <th>group</th>\n",
              "      <th>device</th>\n",
              "      <th>ip_address</th>\n",
              "    </tr>\n",
              "  </thead>\n",
              "  <tbody>\n",
              "    <tr>\n",
              "      <th>45</th>\n",
              "      <td>578_t@yopmail.com</td>\n",
              "      <td>212850416735</td>\n",
              "      <td>True</td>\n",
              "      <td>NaN</td>\n",
              "      <td>Xiaomi Phone</td>\n",
              "      <td>188.227.114.94</td>\n",
              "    </tr>\n",
              "    <tr>\n",
              "      <th>46</th>\n",
              "      <td>578_t@yopmail.com</td>\n",
              "      <td>217203775394</td>\n",
              "      <td>True</td>\n",
              "      <td>B</td>\n",
              "      <td>Apple Simulator</td>\n",
              "      <td>188.227.114.94</td>\n",
              "    </tr>\n",
              "    <tr>\n",
              "      <th>47</th>\n",
              "      <td>578_t@yopmail.com</td>\n",
              "      <td>218598738085</td>\n",
              "      <td>True</td>\n",
              "      <td>NaN</td>\n",
              "      <td>google Google sdk_gphone_x86</td>\n",
              "      <td>188.227.114.94</td>\n",
              "    </tr>\n",
              "    <tr>\n",
              "      <th>48</th>\n",
              "      <td>578_t@yopmail.com</td>\n",
              "      <td>211539882783</td>\n",
              "      <td>True</td>\n",
              "      <td>A</td>\n",
              "      <td>Apple iPhone</td>\n",
              "      <td>188.227.114.94</td>\n",
              "    </tr>\n",
              "    <tr>\n",
              "      <th>49</th>\n",
              "      <td>578_t@yopmail.com</td>\n",
              "      <td>211545831056</td>\n",
              "      <td>False</td>\n",
              "      <td>NaN</td>\n",
              "      <td>Xiaomi Phone</td>\n",
              "      <td>188.227.114.94</td>\n",
              "    </tr>\n",
              "    <tr>\n",
              "      <th>487</th>\n",
              "      <td>anghelemanueldaniel@gmail.com</td>\n",
              "      <td>213014863129</td>\n",
              "      <td>True</td>\n",
              "      <td>NaN</td>\n",
              "      <td>xiaomi Xiaomi Redmi S2</td>\n",
              "      <td>67.218.232.202</td>\n",
              "    </tr>\n",
              "    <tr>\n",
              "      <th>488</th>\n",
              "      <td>anghelemanueldaniel@gmail.com</td>\n",
              "      <td>212286641374</td>\n",
              "      <td>True</td>\n",
              "      <td>NaN</td>\n",
              "      <td>CUBOT CUBOT CUBOT_POWER</td>\n",
              "      <td>67.218.232.202</td>\n",
              "    </tr>\n",
              "    <tr>\n",
              "      <th>978</th>\n",
              "      <td>brianbutcher@mail.com</td>\n",
              "      <td>223978734808</td>\n",
              "      <td>False</td>\n",
              "      <td>B</td>\n",
              "      <td>Apple iPhone</td>\n",
              "      <td>188.222.164.168</td>\n",
              "    </tr>\n",
              "    <tr>\n",
              "      <th>979</th>\n",
              "      <td>brianbutcher@mail.com</td>\n",
              "      <td>216150376351</td>\n",
              "      <td>False</td>\n",
              "      <td>B</td>\n",
              "      <td>Apple iPhone</td>\n",
              "      <td>79.69.235.50</td>\n",
              "    </tr>\n",
              "    <tr>\n",
              "      <th>1807</th>\n",
              "      <td>efmera@gmail.com</td>\n",
              "      <td>215516169471</td>\n",
              "      <td>True</td>\n",
              "      <td>A</td>\n",
              "      <td>Samsung Galaxy Phone</td>\n",
              "      <td>84.104.140.125</td>\n",
              "    </tr>\n",
              "    <tr>\n",
              "      <th>1808</th>\n",
              "      <td>efmera@gmail.com</td>\n",
              "      <td>217003832078</td>\n",
              "      <td>False</td>\n",
              "      <td>A</td>\n",
              "      <td>Samsung Galaxy Phone</td>\n",
              "      <td>84.104.140.125</td>\n",
              "    </tr>\n",
              "    <tr>\n",
              "      <th>3097</th>\n",
              "      <td>kazakov@cindicator.com</td>\n",
              "      <td>217510785086</td>\n",
              "      <td>False</td>\n",
              "      <td>A</td>\n",
              "      <td>Apple iPhone</td>\n",
              "      <td>188.227.114.94</td>\n",
              "    </tr>\n",
              "    <tr>\n",
              "      <th>3098</th>\n",
              "      <td>kazakov@cindicator.com</td>\n",
              "      <td>217260257445</td>\n",
              "      <td>False</td>\n",
              "      <td>B</td>\n",
              "      <td>Apple iPhone</td>\n",
              "      <td>185.233.93.147</td>\n",
              "    </tr>\n",
              "    <tr>\n",
              "      <th>3099</th>\n",
              "      <td>kazakov@cindicator.com</td>\n",
              "      <td>211834462481</td>\n",
              "      <td>False</td>\n",
              "      <td>A</td>\n",
              "      <td>Apple iPhone</td>\n",
              "      <td>188.162.65.220</td>\n",
              "    </tr>\n",
              "    <tr>\n",
              "      <th>4466</th>\n",
              "      <td>partjuliom@gmail.com</td>\n",
              "      <td>222061594759</td>\n",
              "      <td>True</td>\n",
              "      <td>B</td>\n",
              "      <td>realme realme RMX2072</td>\n",
              "      <td>181.229.95.183</td>\n",
              "    </tr>\n",
              "    <tr>\n",
              "      <th>4467</th>\n",
              "      <td>partjuliom@gmail.com</td>\n",
              "      <td>222728130534</td>\n",
              "      <td>False</td>\n",
              "      <td>B</td>\n",
              "      <td>realme realme RMX2072</td>\n",
              "      <td>181.229.95.183</td>\n",
              "    </tr>\n",
              "    <tr>\n",
              "      <th>5182</th>\n",
              "      <td>satanor66@gmail.com</td>\n",
              "      <td>209916540019</td>\n",
              "      <td>True</td>\n",
              "      <td>NaN</td>\n",
              "      <td>Sony Sony H8266</td>\n",
              "      <td>104.238.44.46</td>\n",
              "    </tr>\n",
              "    <tr>\n",
              "      <th>5183</th>\n",
              "      <td>satanor66@gmail.com</td>\n",
              "      <td>210529991551</td>\n",
              "      <td>False</td>\n",
              "      <td>NaN</td>\n",
              "      <td>Sony Sony H8266</td>\n",
              "      <td>5.183.92.55</td>\n",
              "    </tr>\n",
              "    <tr>\n",
              "      <th>5928</th>\n",
              "      <td>ungtechz@gmail.com</td>\n",
              "      <td>219919566934</td>\n",
              "      <td>False</td>\n",
              "      <td>B</td>\n",
              "      <td>Xiaomi Xiaomi MI 9</td>\n",
              "      <td>58.97.229.0</td>\n",
              "    </tr>\n",
              "    <tr>\n",
              "      <th>5929</th>\n",
              "      <td>ungtechz@gmail.com</td>\n",
              "      <td>219728000269</td>\n",
              "      <td>True</td>\n",
              "      <td>B</td>\n",
              "      <td>Xiaomi Xiaomi MI 9</td>\n",
              "      <td>58.97.227.44</td>\n",
              "    </tr>\n",
              "    <tr>\n",
              "      <th>6376</th>\n",
              "      <td>zulaylopez05@gmail.com</td>\n",
              "      <td>217630161438</td>\n",
              "      <td>True</td>\n",
              "      <td>NaN</td>\n",
              "      <td>Xiaomi Phone</td>\n",
              "      <td>201.242.217.135</td>\n",
              "    </tr>\n",
              "    <tr>\n",
              "      <th>6377</th>\n",
              "      <td>zulaylopez05@gmail.com</td>\n",
              "      <td>217665681102</td>\n",
              "      <td>True</td>\n",
              "      <td>A</td>\n",
              "      <td>Apple iPhone</td>\n",
              "      <td>190.73.251.49</td>\n",
              "    </tr>\n",
              "  </tbody>\n",
              "</table>\n",
              "</div>"
            ],
            "text/plain": [
              "                              email  ...       ip_address\n",
              "45                578_t@yopmail.com  ...   188.227.114.94\n",
              "46                578_t@yopmail.com  ...   188.227.114.94\n",
              "47                578_t@yopmail.com  ...   188.227.114.94\n",
              "48                578_t@yopmail.com  ...   188.227.114.94\n",
              "49                578_t@yopmail.com  ...   188.227.114.94\n",
              "487   anghelemanueldaniel@gmail.com  ...   67.218.232.202\n",
              "488   anghelemanueldaniel@gmail.com  ...   67.218.232.202\n",
              "978           brianbutcher@mail.com  ...  188.222.164.168\n",
              "979           brianbutcher@mail.com  ...     79.69.235.50\n",
              "1807               efmera@gmail.com  ...   84.104.140.125\n",
              "1808               efmera@gmail.com  ...   84.104.140.125\n",
              "3097         kazakov@cindicator.com  ...   188.227.114.94\n",
              "3098         kazakov@cindicator.com  ...   185.233.93.147\n",
              "3099         kazakov@cindicator.com  ...   188.162.65.220\n",
              "4466           partjuliom@gmail.com  ...   181.229.95.183\n",
              "4467           partjuliom@gmail.com  ...   181.229.95.183\n",
              "5182            satanor66@gmail.com  ...    104.238.44.46\n",
              "5183            satanor66@gmail.com  ...      5.183.92.55\n",
              "5928             ungtechz@gmail.com  ...      58.97.229.0\n",
              "5929             ungtechz@gmail.com  ...     58.97.227.44\n",
              "6376         zulaylopez05@gmail.com  ...  201.242.217.135\n",
              "6377         zulaylopez05@gmail.com  ...    190.73.251.49\n",
              "\n",
              "[22 rows x 6 columns]"
            ]
          },
          "metadata": {
            "tags": []
          },
          "execution_count": 12
        }
      ]
    },
    {
      "cell_type": "code",
      "metadata": {
        "id": "An6iH9apva_k"
      },
      "source": [
        "target = df[df['email'].duplicated()]['email'].unique()\n",
        "df = df[~df['email'].isin(target)]"
      ],
      "execution_count": null,
      "outputs": []
    },
    {
      "cell_type": "markdown",
      "metadata": {
        "id": "--0SfQEE3boz"
      },
      "source": [
        "Шаг №5 - проверим можно ли восстановить дату когорты по дате оплаты\n"
      ]
    },
    {
      "cell_type": "code",
      "metadata": {
        "colab": {
          "base_uri": "https://localhost:8080/",
          "height": 796
        },
        "id": "BXzRmGzrvaqH",
        "outputId": "48b59054-545f-42e9-ed1c-9a3086257c42"
      },
      "source": [
        "df[(df['payment_date'].notnull()&(df['cohort_date'].isnull()))]"
      ],
      "execution_count": null,
      "outputs": [
        {
          "output_type": "execute_result",
          "data": {
            "text/html": [
              "<div>\n",
              "<style scoped>\n",
              "    .dataframe tbody tr th:only-of-type {\n",
              "        vertical-align: middle;\n",
              "    }\n",
              "\n",
              "    .dataframe tbody tr th {\n",
              "        vertical-align: top;\n",
              "    }\n",
              "\n",
              "    .dataframe thead th {\n",
              "        text-align: right;\n",
              "    }\n",
              "</style>\n",
              "<table border=\"1\" class=\"dataframe\">\n",
              "  <thead>\n",
              "    <tr style=\"text-align: right;\">\n",
              "      <th></th>\n",
              "      <th>email</th>\n",
              "      <th>amplitude_id</th>\n",
              "      <th>carrier</th>\n",
              "      <th>city</th>\n",
              "      <th>country</th>\n",
              "      <th>device</th>\n",
              "      <th>device_type</th>\n",
              "      <th>dma</th>\n",
              "      <th>ip_address</th>\n",
              "      <th>language</th>\n",
              "      <th>library</th>\n",
              "      <th>os</th>\n",
              "      <th>platform</th>\n",
              "      <th>region</th>\n",
              "      <th>start_version</th>\n",
              "      <th>version</th>\n",
              "      <th>gp:capmaign</th>\n",
              "      <th>gp:is_demo</th>\n",
              "      <th>gp:media_source</th>\n",
              "      <th>amount</th>\n",
              "      <th>balance</th>\n",
              "      <th>cohort_date</th>\n",
              "      <th>payment_date</th>\n",
              "      <th>payment_time</th>\n",
              "      <th>group</th>\n",
              "    </tr>\n",
              "  </thead>\n",
              "  <tbody>\n",
              "    <tr>\n",
              "      <th>70</th>\n",
              "      <td>a.cislaghi@outlook.it</td>\n",
              "      <td>222948629857</td>\n",
              "      <td>Iliad</td>\n",
              "      <td>Gallarate</td>\n",
              "      <td>Italy</td>\n",
              "      <td>OnePlus Phone</td>\n",
              "      <td>OnePlus 6T</td>\n",
              "      <td>NaN</td>\n",
              "      <td>151.30.133.127</td>\n",
              "      <td>Italian</td>\n",
              "      <td>amplitude-android/2.25.2</td>\n",
              "      <td>android 10</td>\n",
              "      <td>Android</td>\n",
              "      <td>Provincia di Varese</td>\n",
              "      <td>19.0</td>\n",
              "      <td>19.0</td>\n",
              "      <td>NaN</td>\n",
              "      <td>True</td>\n",
              "      <td>NaN</td>\n",
              "      <td>50.00</td>\n",
              "      <td>1000.00</td>\n",
              "      <td>NaT</td>\n",
              "      <td>2021-01-08</td>\n",
              "      <td>08:41:40</td>\n",
              "      <td>B</td>\n",
              "    </tr>\n",
              "    <tr>\n",
              "      <th>71</th>\n",
              "      <td>a.elmokhtari@gmail.com</td>\n",
              "      <td>212316647797</td>\n",
              "      <td>vodafone.de</td>\n",
              "      <td>Munich</td>\n",
              "      <td>Germany</td>\n",
              "      <td>HUAWEI HUAWEI AMN-LX9</td>\n",
              "      <td>NaN</td>\n",
              "      <td>NaN</td>\n",
              "      <td>109.41.192.23</td>\n",
              "      <td>German</td>\n",
              "      <td>amplitude-android/2.25.2</td>\n",
              "      <td>android 9</td>\n",
              "      <td>Android</td>\n",
              "      <td>Bavaria</td>\n",
              "      <td>14.0</td>\n",
              "      <td>16.0</td>\n",
              "      <td>NaN</td>\n",
              "      <td>False</td>\n",
              "      <td>NaN</td>\n",
              "      <td>66.85</td>\n",
              "      <td>1337.06</td>\n",
              "      <td>NaT</td>\n",
              "      <td>2020-12-03</td>\n",
              "      <td>02:23:20</td>\n",
              "      <td>A</td>\n",
              "    </tr>\n",
              "    <tr>\n",
              "      <th>84</th>\n",
              "      <td>aachleithner@gmail.com</td>\n",
              "      <td>212841711862</td>\n",
              "      <td>Orange</td>\n",
              "      <td>Krakow</td>\n",
              "      <td>Poland</td>\n",
              "      <td>Samsung Galaxy Phone</td>\n",
              "      <td>Samsung Galaxy S7 LTE-A</td>\n",
              "      <td>NaN</td>\n",
              "      <td>89.64.58.142</td>\n",
              "      <td>English</td>\n",
              "      <td>amplitude-android/2.25.2</td>\n",
              "      <td>android 8.0.0</td>\n",
              "      <td>Android</td>\n",
              "      <td>Lesser Poland</td>\n",
              "      <td>14.0</td>\n",
              "      <td>16.0</td>\n",
              "      <td>landing_email</td>\n",
              "      <td>False</td>\n",
              "      <td>landing_email</td>\n",
              "      <td>50.00</td>\n",
              "      <td>1000.04</td>\n",
              "      <td>NaT</td>\n",
              "      <td>2020-12-01</td>\n",
              "      <td>09:10:41</td>\n",
              "      <td>A</td>\n",
              "    </tr>\n",
              "    <tr>\n",
              "      <th>90</th>\n",
              "      <td>aangotzi@yahoo.it</td>\n",
              "      <td>221594783385</td>\n",
              "      <td>Iliad</td>\n",
              "      <td>Cagliari</td>\n",
              "      <td>Italy</td>\n",
              "      <td>realme realme RMX2170</td>\n",
              "      <td>NaN</td>\n",
              "      <td>NaN</td>\n",
              "      <td>151.56.52.124</td>\n",
              "      <td>Italian</td>\n",
              "      <td>amplitude-android/2.25.2</td>\n",
              "      <td>android 10</td>\n",
              "      <td>Android</td>\n",
              "      <td>Provincia di Cagliari</td>\n",
              "      <td>19.0</td>\n",
              "      <td>19.0</td>\n",
              "      <td>Cindicator Website QR</td>\n",
              "      <td>False</td>\n",
              "      <td>QR_code</td>\n",
              "      <td>50.00</td>\n",
              "      <td>1000.00</td>\n",
              "      <td>NaT</td>\n",
              "      <td>2021-01-05</td>\n",
              "      <td>13:49:10</td>\n",
              "      <td>B</td>\n",
              "    </tr>\n",
              "    <tr>\n",
              "      <th>361</th>\n",
              "      <td>allotherone@protonmail.com</td>\n",
              "      <td>215526315504</td>\n",
              "      <td>T-Mobile</td>\n",
              "      <td>Georgetown</td>\n",
              "      <td>United States</td>\n",
              "      <td>samsung samsung SM-G986U1</td>\n",
              "      <td>NaN</td>\n",
              "      <td>Austin, TX</td>\n",
              "      <td>75.108.25.159</td>\n",
              "      <td>English</td>\n",
              "      <td>amplitude-android/2.25.2</td>\n",
              "      <td>android 11</td>\n",
              "      <td>Android</td>\n",
              "      <td>Texas</td>\n",
              "      <td>16.0</td>\n",
              "      <td>19.0</td>\n",
              "      <td>landing_email</td>\n",
              "      <td>False</td>\n",
              "      <td>landing_email</td>\n",
              "      <td>91.85</td>\n",
              "      <td>1836.93</td>\n",
              "      <td>NaT</td>\n",
              "      <td>2020-12-10</td>\n",
              "      <td>21:11:16</td>\n",
              "      <td>A</td>\n",
              "    </tr>\n",
              "    <tr>\n",
              "      <th>...</th>\n",
              "      <td>...</td>\n",
              "      <td>...</td>\n",
              "      <td>...</td>\n",
              "      <td>...</td>\n",
              "      <td>...</td>\n",
              "      <td>...</td>\n",
              "      <td>...</td>\n",
              "      <td>...</td>\n",
              "      <td>...</td>\n",
              "      <td>...</td>\n",
              "      <td>...</td>\n",
              "      <td>...</td>\n",
              "      <td>...</td>\n",
              "      <td>...</td>\n",
              "      <td>...</td>\n",
              "      <td>...</td>\n",
              "      <td>...</td>\n",
              "      <td>...</td>\n",
              "      <td>...</td>\n",
              "      <td>...</td>\n",
              "      <td>...</td>\n",
              "      <td>...</td>\n",
              "      <td>...</td>\n",
              "      <td>...</td>\n",
              "      <td>...</td>\n",
              "    </tr>\n",
              "    <tr>\n",
              "      <th>6048</th>\n",
              "      <td>vincez.shenz@gmail.com</td>\n",
              "      <td>218521689431</td>\n",
              "      <td>Circles</td>\n",
              "      <td>Singapore</td>\n",
              "      <td>Singapore</td>\n",
              "      <td>Xiaomi Xiaomi M2007J3SY</td>\n",
              "      <td>NaN</td>\n",
              "      <td>NaN</td>\n",
              "      <td>103.252.203.229</td>\n",
              "      <td>English</td>\n",
              "      <td>amplitude-android/2.25.2</td>\n",
              "      <td>android 10</td>\n",
              "      <td>Android</td>\n",
              "      <td>NaN</td>\n",
              "      <td>18.0</td>\n",
              "      <td>19.0</td>\n",
              "      <td>NaN</td>\n",
              "      <td>False</td>\n",
              "      <td>NaN</td>\n",
              "      <td>50.00</td>\n",
              "      <td>1000.00</td>\n",
              "      <td>NaT</td>\n",
              "      <td>2020-12-22</td>\n",
              "      <td>09:36:38</td>\n",
              "      <td>B</td>\n",
              "    </tr>\n",
              "    <tr>\n",
              "      <th>6294</th>\n",
              "      <td>yordivd@outlook.com</td>\n",
              "      <td>222557096514</td>\n",
              "      <td>Orange B</td>\n",
              "      <td>Schilde</td>\n",
              "      <td>Belgium</td>\n",
              "      <td>Samsung Galaxy Phone</td>\n",
              "      <td>Samsung Galaxy S8</td>\n",
              "      <td>NaN</td>\n",
              "      <td>81.82.234.186</td>\n",
              "      <td>Dutch</td>\n",
              "      <td>amplitude-android/2.25.2</td>\n",
              "      <td>android 9</td>\n",
              "      <td>Android</td>\n",
              "      <td>Antwerp Province</td>\n",
              "      <td>19.0</td>\n",
              "      <td>19.0</td>\n",
              "      <td>NaN</td>\n",
              "      <td>False</td>\n",
              "      <td>NaN</td>\n",
              "      <td>50.00</td>\n",
              "      <td>1000.00</td>\n",
              "      <td>NaT</td>\n",
              "      <td>2021-01-08</td>\n",
              "      <td>07:22:09</td>\n",
              "      <td>B</td>\n",
              "    </tr>\n",
              "    <tr>\n",
              "      <th>6318</th>\n",
              "      <td>yylee.rey@gmail.com</td>\n",
              "      <td>214793186688</td>\n",
              "      <td>Singtel</td>\n",
              "      <td>Singapore</td>\n",
              "      <td>Singapore</td>\n",
              "      <td>Redmi Xiaomi Redmi Note 9 Pro</td>\n",
              "      <td>NaN</td>\n",
              "      <td>NaN</td>\n",
              "      <td>138.75.178.30</td>\n",
              "      <td>English</td>\n",
              "      <td>amplitude-android/2.25.2</td>\n",
              "      <td>android 10</td>\n",
              "      <td>Android</td>\n",
              "      <td>NaN</td>\n",
              "      <td>16.0</td>\n",
              "      <td>19.0</td>\n",
              "      <td>NaN</td>\n",
              "      <td>False</td>\n",
              "      <td>NaN</td>\n",
              "      <td>52.20</td>\n",
              "      <td>1044.00</td>\n",
              "      <td>NaT</td>\n",
              "      <td>2020-12-08</td>\n",
              "      <td>06:21:40</td>\n",
              "      <td>A</td>\n",
              "    </tr>\n",
              "    <tr>\n",
              "      <th>6325</th>\n",
              "      <td>zachdelane@gmail.com</td>\n",
              "      <td>211572594740</td>\n",
              "      <td>NaN</td>\n",
              "      <td>Burnsville</td>\n",
              "      <td>United States</td>\n",
              "      <td>Samsung Galaxy Phone</td>\n",
              "      <td>Samsung Galaxy S8</td>\n",
              "      <td>Minneapolis-St. Paul, MN</td>\n",
              "      <td>174.250.64.96</td>\n",
              "      <td>English</td>\n",
              "      <td>amplitude-android/2.25.2</td>\n",
              "      <td>android 9</td>\n",
              "      <td>Android</td>\n",
              "      <td>Minnesota</td>\n",
              "      <td>13.0</td>\n",
              "      <td>19.0</td>\n",
              "      <td>landing_email</td>\n",
              "      <td>False</td>\n",
              "      <td>landing_email</td>\n",
              "      <td>54.85</td>\n",
              "      <td>1097.00</td>\n",
              "      <td>NaT</td>\n",
              "      <td>2020-11-27</td>\n",
              "      <td>19:22:20</td>\n",
              "      <td>A</td>\n",
              "    </tr>\n",
              "    <tr>\n",
              "      <th>6363</th>\n",
              "      <td>ziomik@ziomik.net</td>\n",
              "      <td>223629694120</td>\n",
              "      <td>Iliad</td>\n",
              "      <td>Verona</td>\n",
              "      <td>Italy</td>\n",
              "      <td>Xiaomi Xiaomi Mi 9 SE</td>\n",
              "      <td>NaN</td>\n",
              "      <td>NaN</td>\n",
              "      <td>82.60.190.190</td>\n",
              "      <td>Italian</td>\n",
              "      <td>amplitude-android/2.25.2</td>\n",
              "      <td>android 10</td>\n",
              "      <td>Android</td>\n",
              "      <td>Provincia di Verona</td>\n",
              "      <td>19.0</td>\n",
              "      <td>19.0</td>\n",
              "      <td>NaN</td>\n",
              "      <td>True</td>\n",
              "      <td>NaN</td>\n",
              "      <td>50.00</td>\n",
              "      <td>1000.00</td>\n",
              "      <td>NaT</td>\n",
              "      <td>2021-01-09</td>\n",
              "      <td>17:54:23</td>\n",
              "      <td>B</td>\n",
              "    </tr>\n",
              "  </tbody>\n",
              "</table>\n",
              "<p>135 rows × 25 columns</p>\n",
              "</div>"
            ],
            "text/plain": [
              "                           email  amplitude_id  ... payment_time group\n",
              "70         a.cislaghi@outlook.it  222948629857  ...     08:41:40     B\n",
              "71        a.elmokhtari@gmail.com  212316647797  ...     02:23:20     A\n",
              "84        aachleithner@gmail.com  212841711862  ...     09:10:41     A\n",
              "90             aangotzi@yahoo.it  221594783385  ...     13:49:10     B\n",
              "361   allotherone@protonmail.com  215526315504  ...     21:11:16     A\n",
              "...                          ...           ...  ...          ...   ...\n",
              "6048      vincez.shenz@gmail.com  218521689431  ...     09:36:38     B\n",
              "6294         yordivd@outlook.com  222557096514  ...     07:22:09     B\n",
              "6318         yylee.rey@gmail.com  214793186688  ...     06:21:40     A\n",
              "6325        zachdelane@gmail.com  211572594740  ...     19:22:20     A\n",
              "6363           ziomik@ziomik.net  223629694120  ...     17:54:23     B\n",
              "\n",
              "[135 rows x 25 columns]"
            ]
          },
          "metadata": {
            "tags": []
          },
          "execution_count": 14
        }
      ]
    },
    {
      "cell_type": "markdown",
      "metadata": {
        "id": "9e-QKHuc5G0c"
      },
      "source": [
        " У 54% пользователей с `payment_dt` нет данных в `cohort_date` и это странно. Получается, что эти пользователи не попали ни в какую когорту для аналитики, но они есть в платежках. Я сделаю очень грубое допущение, что дата совершения платежа (в данном случае) является и датой первого запуска/регистрации приложения. А вообще, хорошо бы разобраться в причинах появления таких пропусков. "
      ]
    },
    {
      "cell_type": "code",
      "metadata": {
        "id": "ieGztL_XrpUn"
      },
      "source": [
        "# Восстановим cohort_date из payment_date там, где это возможно\n",
        "df.loc[(df['payment_date'].notnull()&(df['cohort_date'].isnull())), 'cohort_date'] = df['payment_date']"
      ],
      "execution_count": null,
      "outputs": []
    },
    {
      "cell_type": "code",
      "metadata": {
        "id": "wKxXP3LrPWoU"
      },
      "source": [
        "# Считаем конверсию\n",
        "conversion = (df\n",
        " .pivot_table(index='group', aggfunc={'cohort_date':'count', 'payment_date':'count'})\n",
        " .rename(columns={'cohort_date':'sign-up', 'payment_date':'purchase'})).T"
      ],
      "execution_count": null,
      "outputs": []
    },
    {
      "cell_type": "code",
      "metadata": {
        "id": "zyf2tOYxOd0g",
        "colab": {
          "base_uri": "https://localhost:8080/",
          "height": 542
        },
        "outputId": "ff67b4c8-729a-4948-e97b-398de43342b1"
      },
      "source": [
        "# Рисуем конверсию\n",
        "def my_funnel(df, title):\n",
        "    \"\"\"\n",
        "    Функция принимает df и название графика. Воронка строится по событиям, которые должны являться индексами в указанном df.\n",
        "    Если указанный df содержит несколько переменных, то воронка будет построена по всем данным df\n",
        "    \"\"\"\n",
        "    \n",
        "    fig = go.Figure()\n",
        "\n",
        "    for name in df.columns:\n",
        "        fig.add_trace(go.Funnel(\n",
        "            name = name,\n",
        "            y = df.index,\n",
        "            x = df[name],\n",
        "            textposition = 'inside',\n",
        "            textinfo = 'value+percent previous'))\n",
        "        \n",
        "    fig.update_layout(title=title,\n",
        "                      margin=dict(l=0, r=0))\n",
        "\n",
        "    fig.show()\n",
        "\n",
        "my_funnel(conversion, 'Конверсия пользователей')"
      ],
      "execution_count": null,
      "outputs": [
        {
          "output_type": "display_data",
          "data": {
            "text/html": [
              "<html>\n",
              "<head><meta charset=\"utf-8\" /></head>\n",
              "<body>\n",
              "    <div>\n",
              "            <script src=\"https://cdnjs.cloudflare.com/ajax/libs/mathjax/2.7.5/MathJax.js?config=TeX-AMS-MML_SVG\"></script><script type=\"text/javascript\">if (window.MathJax) {MathJax.Hub.Config({SVG: {font: \"STIX-Web\"}});}</script>\n",
              "                <script type=\"text/javascript\">window.PlotlyConfig = {MathJaxConfig: 'local'};</script>\n",
              "        <script src=\"https://cdn.plot.ly/plotly-latest.min.js\"></script>    \n",
              "            <div id=\"2a1de6ff-a97e-4989-8b4b-39d3f1157e1a\" class=\"plotly-graph-div\" style=\"height:525px; width:100%;\"></div>\n",
              "            <script type=\"text/javascript\">\n",
              "                \n",
              "                    window.PLOTLYENV=window.PLOTLYENV || {};\n",
              "                    \n",
              "                if (document.getElementById(\"2a1de6ff-a97e-4989-8b4b-39d3f1157e1a\")) {\n",
              "                    Plotly.newPlot(\n",
              "                        '2a1de6ff-a97e-4989-8b4b-39d3f1157e1a',\n",
              "                        [{\"name\": \"A\", \"textinfo\": \"value+percent previous\", \"textposition\": \"inside\", \"type\": \"funnel\", \"x\": [816, 98], \"y\": [\"sign-up\", \"purchase\"]}, {\"name\": \"B\", \"textinfo\": \"value+percent previous\", \"textposition\": \"inside\", \"type\": \"funnel\", \"x\": [739, 140], \"y\": [\"sign-up\", \"purchase\"]}],\n",
              "                        {\"margin\": {\"l\": 0, \"r\": 0}, \"template\": {\"data\": {\"bar\": [{\"error_x\": {\"color\": \"#2a3f5f\"}, \"error_y\": {\"color\": \"#2a3f5f\"}, \"marker\": {\"line\": {\"color\": \"#E5ECF6\", \"width\": 0.5}}, \"type\": \"bar\"}], \"barpolar\": [{\"marker\": {\"line\": {\"color\": \"#E5ECF6\", \"width\": 0.5}}, \"type\": \"barpolar\"}], \"carpet\": [{\"aaxis\": {\"endlinecolor\": \"#2a3f5f\", \"gridcolor\": \"white\", \"linecolor\": \"white\", \"minorgridcolor\": \"white\", \"startlinecolor\": \"#2a3f5f\"}, \"baxis\": {\"endlinecolor\": \"#2a3f5f\", \"gridcolor\": \"white\", \"linecolor\": \"white\", \"minorgridcolor\": \"white\", \"startlinecolor\": \"#2a3f5f\"}, \"type\": \"carpet\"}], \"choropleth\": [{\"colorbar\": {\"outlinewidth\": 0, \"ticks\": \"\"}, \"type\": \"choropleth\"}], \"contour\": [{\"colorbar\": {\"outlinewidth\": 0, \"ticks\": \"\"}, \"colorscale\": [[0.0, \"#0d0887\"], [0.1111111111111111, \"#46039f\"], [0.2222222222222222, \"#7201a8\"], [0.3333333333333333, \"#9c179e\"], [0.4444444444444444, \"#bd3786\"], [0.5555555555555556, \"#d8576b\"], [0.6666666666666666, \"#ed7953\"], [0.7777777777777778, \"#fb9f3a\"], [0.8888888888888888, \"#fdca26\"], [1.0, \"#f0f921\"]], \"type\": \"contour\"}], \"contourcarpet\": [{\"colorbar\": {\"outlinewidth\": 0, \"ticks\": \"\"}, \"type\": \"contourcarpet\"}], \"heatmap\": [{\"colorbar\": {\"outlinewidth\": 0, \"ticks\": \"\"}, \"colorscale\": [[0.0, \"#0d0887\"], [0.1111111111111111, \"#46039f\"], [0.2222222222222222, \"#7201a8\"], [0.3333333333333333, \"#9c179e\"], [0.4444444444444444, \"#bd3786\"], [0.5555555555555556, \"#d8576b\"], [0.6666666666666666, \"#ed7953\"], [0.7777777777777778, \"#fb9f3a\"], [0.8888888888888888, \"#fdca26\"], [1.0, \"#f0f921\"]], \"type\": \"heatmap\"}], \"heatmapgl\": [{\"colorbar\": {\"outlinewidth\": 0, \"ticks\": \"\"}, \"colorscale\": [[0.0, \"#0d0887\"], [0.1111111111111111, \"#46039f\"], [0.2222222222222222, \"#7201a8\"], [0.3333333333333333, \"#9c179e\"], [0.4444444444444444, \"#bd3786\"], [0.5555555555555556, \"#d8576b\"], [0.6666666666666666, \"#ed7953\"], [0.7777777777777778, \"#fb9f3a\"], [0.8888888888888888, \"#fdca26\"], [1.0, \"#f0f921\"]], \"type\": \"heatmapgl\"}], \"histogram\": [{\"marker\": {\"colorbar\": {\"outlinewidth\": 0, \"ticks\": \"\"}}, \"type\": \"histogram\"}], \"histogram2d\": [{\"colorbar\": {\"outlinewidth\": 0, \"ticks\": \"\"}, \"colorscale\": [[0.0, \"#0d0887\"], [0.1111111111111111, \"#46039f\"], [0.2222222222222222, \"#7201a8\"], [0.3333333333333333, \"#9c179e\"], [0.4444444444444444, \"#bd3786\"], [0.5555555555555556, \"#d8576b\"], [0.6666666666666666, \"#ed7953\"], [0.7777777777777778, \"#fb9f3a\"], [0.8888888888888888, \"#fdca26\"], [1.0, \"#f0f921\"]], \"type\": \"histogram2d\"}], \"histogram2dcontour\": [{\"colorbar\": {\"outlinewidth\": 0, \"ticks\": \"\"}, \"colorscale\": [[0.0, \"#0d0887\"], [0.1111111111111111, \"#46039f\"], [0.2222222222222222, \"#7201a8\"], [0.3333333333333333, \"#9c179e\"], [0.4444444444444444, \"#bd3786\"], [0.5555555555555556, \"#d8576b\"], [0.6666666666666666, \"#ed7953\"], [0.7777777777777778, \"#fb9f3a\"], [0.8888888888888888, \"#fdca26\"], [1.0, \"#f0f921\"]], \"type\": \"histogram2dcontour\"}], \"mesh3d\": [{\"colorbar\": {\"outlinewidth\": 0, \"ticks\": \"\"}, \"type\": \"mesh3d\"}], \"parcoords\": [{\"line\": {\"colorbar\": {\"outlinewidth\": 0, \"ticks\": \"\"}}, \"type\": \"parcoords\"}], \"pie\": [{\"automargin\": true, \"type\": \"pie\"}], \"scatter\": [{\"marker\": {\"colorbar\": {\"outlinewidth\": 0, \"ticks\": \"\"}}, \"type\": \"scatter\"}], \"scatter3d\": [{\"line\": {\"colorbar\": {\"outlinewidth\": 0, \"ticks\": \"\"}}, \"marker\": {\"colorbar\": {\"outlinewidth\": 0, \"ticks\": \"\"}}, \"type\": \"scatter3d\"}], \"scattercarpet\": [{\"marker\": {\"colorbar\": {\"outlinewidth\": 0, \"ticks\": \"\"}}, \"type\": \"scattercarpet\"}], \"scattergeo\": [{\"marker\": {\"colorbar\": {\"outlinewidth\": 0, \"ticks\": \"\"}}, \"type\": \"scattergeo\"}], \"scattergl\": [{\"marker\": {\"colorbar\": {\"outlinewidth\": 0, \"ticks\": \"\"}}, \"type\": \"scattergl\"}], \"scattermapbox\": [{\"marker\": {\"colorbar\": {\"outlinewidth\": 0, \"ticks\": \"\"}}, \"type\": \"scattermapbox\"}], \"scatterpolar\": [{\"marker\": {\"colorbar\": {\"outlinewidth\": 0, \"ticks\": \"\"}}, \"type\": \"scatterpolar\"}], \"scatterpolargl\": [{\"marker\": {\"colorbar\": {\"outlinewidth\": 0, \"ticks\": \"\"}}, \"type\": \"scatterpolargl\"}], \"scatterternary\": [{\"marker\": {\"colorbar\": {\"outlinewidth\": 0, \"ticks\": \"\"}}, \"type\": \"scatterternary\"}], \"surface\": [{\"colorbar\": {\"outlinewidth\": 0, \"ticks\": \"\"}, \"colorscale\": [[0.0, \"#0d0887\"], [0.1111111111111111, \"#46039f\"], [0.2222222222222222, \"#7201a8\"], [0.3333333333333333, \"#9c179e\"], [0.4444444444444444, \"#bd3786\"], [0.5555555555555556, \"#d8576b\"], [0.6666666666666666, \"#ed7953\"], [0.7777777777777778, \"#fb9f3a\"], [0.8888888888888888, \"#fdca26\"], [1.0, \"#f0f921\"]], \"type\": \"surface\"}], \"table\": [{\"cells\": {\"fill\": {\"color\": \"#EBF0F8\"}, \"line\": {\"color\": \"white\"}}, \"header\": {\"fill\": {\"color\": \"#C8D4E3\"}, \"line\": {\"color\": \"white\"}}, \"type\": \"table\"}]}, \"layout\": {\"annotationdefaults\": {\"arrowcolor\": \"#2a3f5f\", \"arrowhead\": 0, \"arrowwidth\": 1}, \"coloraxis\": {\"colorbar\": {\"outlinewidth\": 0, \"ticks\": \"\"}}, \"colorscale\": {\"diverging\": [[0, \"#8e0152\"], [0.1, \"#c51b7d\"], [0.2, \"#de77ae\"], [0.3, \"#f1b6da\"], [0.4, \"#fde0ef\"], [0.5, \"#f7f7f7\"], [0.6, \"#e6f5d0\"], [0.7, \"#b8e186\"], [0.8, \"#7fbc41\"], [0.9, \"#4d9221\"], [1, \"#276419\"]], \"sequential\": [[0.0, \"#0d0887\"], [0.1111111111111111, \"#46039f\"], [0.2222222222222222, \"#7201a8\"], [0.3333333333333333, \"#9c179e\"], [0.4444444444444444, \"#bd3786\"], [0.5555555555555556, \"#d8576b\"], [0.6666666666666666, \"#ed7953\"], [0.7777777777777778, \"#fb9f3a\"], [0.8888888888888888, \"#fdca26\"], [1.0, \"#f0f921\"]], \"sequentialminus\": [[0.0, \"#0d0887\"], [0.1111111111111111, \"#46039f\"], [0.2222222222222222, \"#7201a8\"], [0.3333333333333333, \"#9c179e\"], [0.4444444444444444, \"#bd3786\"], [0.5555555555555556, \"#d8576b\"], [0.6666666666666666, \"#ed7953\"], [0.7777777777777778, \"#fb9f3a\"], [0.8888888888888888, \"#fdca26\"], [1.0, \"#f0f921\"]]}, \"colorway\": [\"#636efa\", \"#EF553B\", \"#00cc96\", \"#ab63fa\", \"#FFA15A\", \"#19d3f3\", \"#FF6692\", \"#B6E880\", \"#FF97FF\", \"#FECB52\"], \"font\": {\"color\": \"#2a3f5f\"}, \"geo\": {\"bgcolor\": \"white\", \"lakecolor\": \"white\", \"landcolor\": \"#E5ECF6\", \"showlakes\": true, \"showland\": true, \"subunitcolor\": \"white\"}, \"hoverlabel\": {\"align\": \"left\"}, \"hovermode\": \"closest\", \"mapbox\": {\"style\": \"light\"}, \"paper_bgcolor\": \"white\", \"plot_bgcolor\": \"#E5ECF6\", \"polar\": {\"angularaxis\": {\"gridcolor\": \"white\", \"linecolor\": \"white\", \"ticks\": \"\"}, \"bgcolor\": \"#E5ECF6\", \"radialaxis\": {\"gridcolor\": \"white\", \"linecolor\": \"white\", \"ticks\": \"\"}}, \"scene\": {\"xaxis\": {\"backgroundcolor\": \"#E5ECF6\", \"gridcolor\": \"white\", \"gridwidth\": 2, \"linecolor\": \"white\", \"showbackground\": true, \"ticks\": \"\", \"zerolinecolor\": \"white\"}, \"yaxis\": {\"backgroundcolor\": \"#E5ECF6\", \"gridcolor\": \"white\", \"gridwidth\": 2, \"linecolor\": \"white\", \"showbackground\": true, \"ticks\": \"\", \"zerolinecolor\": \"white\"}, \"zaxis\": {\"backgroundcolor\": \"#E5ECF6\", \"gridcolor\": \"white\", \"gridwidth\": 2, \"linecolor\": \"white\", \"showbackground\": true, \"ticks\": \"\", \"zerolinecolor\": \"white\"}}, \"shapedefaults\": {\"line\": {\"color\": \"#2a3f5f\"}}, \"ternary\": {\"aaxis\": {\"gridcolor\": \"white\", \"linecolor\": \"white\", \"ticks\": \"\"}, \"baxis\": {\"gridcolor\": \"white\", \"linecolor\": \"white\", \"ticks\": \"\"}, \"bgcolor\": \"#E5ECF6\", \"caxis\": {\"gridcolor\": \"white\", \"linecolor\": \"white\", \"ticks\": \"\"}}, \"title\": {\"x\": 0.05}, \"xaxis\": {\"automargin\": true, \"gridcolor\": \"white\", \"linecolor\": \"white\", \"ticks\": \"\", \"title\": {\"standoff\": 15}, \"zerolinecolor\": \"white\", \"zerolinewidth\": 2}, \"yaxis\": {\"automargin\": true, \"gridcolor\": \"white\", \"linecolor\": \"white\", \"ticks\": \"\", \"title\": {\"standoff\": 15}, \"zerolinecolor\": \"white\", \"zerolinewidth\": 2}}}, \"title\": {\"text\": \"\\u041a\\u043e\\u043d\\u0432\\u0435\\u0440\\u0441\\u0438\\u044f \\u043f\\u043e\\u043b\\u044c\\u0437\\u043e\\u0432\\u0430\\u0442\\u0435\\u043b\\u0435\\u0439\"}},\n",
              "                        {\"responsive\": true}\n",
              "                    ).then(function(){\n",
              "                            \n",
              "var gd = document.getElementById('2a1de6ff-a97e-4989-8b4b-39d3f1157e1a');\n",
              "var x = new MutationObserver(function (mutations, observer) {{\n",
              "        var display = window.getComputedStyle(gd).display;\n",
              "        if (!display || display === 'none') {{\n",
              "            console.log([gd, 'removed!']);\n",
              "            Plotly.purge(gd);\n",
              "            observer.disconnect();\n",
              "        }}\n",
              "}});\n",
              "\n",
              "// Listen for the removal of the full notebook cells\n",
              "var notebookContainer = gd.closest('#notebook-container');\n",
              "if (notebookContainer) {{\n",
              "    x.observe(notebookContainer, {childList: true});\n",
              "}}\n",
              "\n",
              "// Listen for the clearing of the current output cell\n",
              "var outputEl = gd.closest('.output');\n",
              "if (outputEl) {{\n",
              "    x.observe(outputEl, {childList: true});\n",
              "}}\n",
              "\n",
              "                        })\n",
              "                };\n",
              "                \n",
              "            </script>\n",
              "        </div>\n",
              "</body>\n",
              "</html>"
            ]
          },
          "metadata": {
            "tags": []
          }
        }
      ]
    },
    {
      "cell_type": "markdown",
      "metadata": {
        "id": "DqfeUezzVFnO"
      },
      "source": [
        "Складывается ощущение, что пользователи группы B (после изменения воронки) конвертируются лучше. Пожалуй стоит проверить наличие/отсутствие статистической значимости в цифрах. Вдруг это просто случайность? \n",
        "\n",
        "Для этого используем Z-тест (z-критерий Фишера).  За нулевую гипотезу буду принимать, что в разницы в конверсии нет."
      ]
    },
    {
      "cell_type": "code",
      "metadata": {
        "id": "oAF6KzrOOdq1",
        "colab": {
          "base_uri": "https://localhost:8080/"
        },
        "outputId": "f88bea0d-820c-4a87-9e99-d582400e7b5c"
      },
      "source": [
        "def result_ztest(df):\n",
        "    alpha = 0.05 \n",
        "    \n",
        "    i = 0\n",
        "    while i < 1: \n",
        "        print('Шаг воронки: {} -> {}:'.format(df.index[i], df.index[i+1]))\n",
        "\n",
        "        # исходные данные\n",
        "        first_step = np.array([df.iloc[i][0], df.iloc[i][1]])\n",
        "        next_step = np.array([df.iloc[i+1][0], df.iloc[i+1][1]])\n",
        "\n",
        "        # пропорция успехов в первой группе:\n",
        "        p1 = next_step[0]/first_step[0]\n",
        "\n",
        "        # пропорция успехов во второй группе:\n",
        "        p2 = next_step[1]/first_step[1]\n",
        "\n",
        "        # пропорция успехов в комбинированном датасете:\n",
        "        p_combined = (next_step[0] + next_step[1]) / (first_step[0] + first_step[1])\n",
        "\n",
        "        # разница пропорций в датасетах\n",
        "        difference = p1 - p2\n",
        "\n",
        "        # считаем статистику в ст.отклонениях стандартного нормального распределения\n",
        "        z_value = difference / mth.sqrt(p_combined * (1 - p_combined) * (1/first_step[0] + 1/first_step[1]))\n",
        "\n",
        "        # задаем стандартное нормальное распределение (среднее 0, ст.отклонение 1)\n",
        "        distr = st.norm(0, 1)\n",
        "\n",
        "        p_value = (1 - distr.cdf(abs(z_value))) * 2\n",
        "\n",
        "        print('p-значение: ', p_value)\n",
        "        if (p_value < alpha):\n",
        "            print(\"Отвергаем нулевую гипотезу, есть статистически значимая разница\")\n",
        "        else:\n",
        "            print(\"Не получилось отвергнуть нулевую гипотезу, нет статистически значимой разницы\")\n",
        "\n",
        "        print('---'*30)\n",
        "        print()\n",
        "        i = i + 1\n",
        "\n",
        "result_ztest(conversion)"
      ],
      "execution_count": null,
      "outputs": [
        {
          "output_type": "stream",
          "text": [
            "Шаг воронки: sign-up -> purchase:\n",
            "p-значение:  0.00014885414194609758\n",
            "Отвергаем нулевую гипотезу, есть статистически значимая разница\n",
            "------------------------------------------------------------------------------------------\n",
            "\n"
          ],
          "name": "stdout"
        }
      ]
    },
    {
      "cell_type": "markdown",
      "metadata": {
        "id": "Mg-wH10SVlCy"
      },
      "source": [
        "Если верить полученным результатом, то с вероятностью в 95% изменение шагов воронки дает прирост конверсии. И вроде все хорошо, эксперимент можно считать удачным, но хочется посмотреть и на другие метрики в разрезе групп пользователей. Например на выручку. \n",
        "\n",
        "Я надеюсь, что правильно трактую смысл переменной  `gp:is_demo`. \n",
        "- True - пользователь находится на demo аккаунте. \n",
        "- False - пользователь использует не demo аккаунт => `amount` это суммы, которые получил сервис за свою работу. \n"
      ]
    },
    {
      "cell_type": "code",
      "metadata": {
        "colab": {
          "base_uri": "https://localhost:8080/",
          "height": 204
        },
        "id": "jo7ljffrV47c",
        "outputId": "62f84d84-aaab-4c6e-9614-36d5b412fc47"
      },
      "source": [
        "(df\n",
        " .pivot_table(index=['gp:is_demo', 'group'], aggfunc={'amount':'sum', 'payment_date':'count'})\n",
        " .rename(columns={'amount':'total_amount', 'payment_date':'total_user'})\n",
        ")"
      ],
      "execution_count": null,
      "outputs": [
        {
          "output_type": "execute_result",
          "data": {
            "text/html": [
              "<div>\n",
              "<style scoped>\n",
              "    .dataframe tbody tr th:only-of-type {\n",
              "        vertical-align: middle;\n",
              "    }\n",
              "\n",
              "    .dataframe tbody tr th {\n",
              "        vertical-align: top;\n",
              "    }\n",
              "\n",
              "    .dataframe thead th {\n",
              "        text-align: right;\n",
              "    }\n",
              "</style>\n",
              "<table border=\"1\" class=\"dataframe\">\n",
              "  <thead>\n",
              "    <tr style=\"text-align: right;\">\n",
              "      <th></th>\n",
              "      <th></th>\n",
              "      <th>total_amount</th>\n",
              "      <th>total_user</th>\n",
              "    </tr>\n",
              "    <tr>\n",
              "      <th>gp:is_demo</th>\n",
              "      <th>group</th>\n",
              "      <th></th>\n",
              "      <th></th>\n",
              "    </tr>\n",
              "  </thead>\n",
              "  <tbody>\n",
              "    <tr>\n",
              "      <th rowspan=\"2\" valign=\"top\">False</th>\n",
              "      <th>A</th>\n",
              "      <td>16171.13</td>\n",
              "      <td>95</td>\n",
              "    </tr>\n",
              "    <tr>\n",
              "      <th>B</th>\n",
              "      <td>10237.02</td>\n",
              "      <td>96</td>\n",
              "    </tr>\n",
              "    <tr>\n",
              "      <th rowspan=\"2\" valign=\"top\">True</th>\n",
              "      <th>A</th>\n",
              "      <td>204.76</td>\n",
              "      <td>3</td>\n",
              "    </tr>\n",
              "    <tr>\n",
              "      <th>B</th>\n",
              "      <td>3798.30</td>\n",
              "      <td>43</td>\n",
              "    </tr>\n",
              "  </tbody>\n",
              "</table>\n",
              "</div>"
            ],
            "text/plain": [
              "                  total_amount  total_user\n",
              "gp:is_demo group                          \n",
              "False      A          16171.13          95\n",
              "           B          10237.02          96\n",
              "True       A            204.76           3\n",
              "           B           3798.30          43"
            ]
          },
          "metadata": {
            "tags": []
          },
          "execution_count": 41
        }
      ]
    },
    {
      "cell_type": "markdown",
      "metadata": {
        "id": "0pr4k-sJcaO1"
      },
      "source": [
        "Хм, получается, что при сопоставимом количестве платящих пользователей больше денег приносила группа А. В таком разрезе трудно признать эксперимент по изменению воронки успешным. Если бы в предоставленных данных была информация о стоимости привлечения пользователя и LTV. То можно было бы рассчитать ROI и более взвешенно (как мне кажется) оценить успех/провал эксперимента.  \n"
      ]
    },
    {
      "cell_type": "markdown",
      "metadata": {
        "id": "AGeD1i0hcb_H"
      },
      "source": [
        "# Ответ на вопрос №2\n",
        "\n"
      ]
    },
    {
      "cell_type": "markdown",
      "metadata": {
        "id": "qwTjdZoWcqKS"
      },
      "source": [
        "*Если возможно, определите наиболее эффективные каналы привлечения и другие важные параметры юнит-экономики продукта, которые заметите на основе данных из п.1.*"
      ]
    },
    {
      "cell_type": "markdown",
      "metadata": {
        "id": "wKTJyTgPdPH-"
      },
      "source": [
        "## Наиболее эффективные каналы привлечения\n"
      ]
    },
    {
      "cell_type": "code",
      "metadata": {
        "colab": {
          "base_uri": "https://localhost:8080/"
        },
        "id": "Wakg7a2uZYft",
        "outputId": "f76b3b8e-016c-4b87-84b8-ac83266a8da0"
      },
      "source": [
        "df['gp:capmaign'].value_counts()"
      ],
      "execution_count": null,
      "outputs": [
        {
          "output_type": "execute_result",
          "data": {
            "text/plain": [
              "29889                           1061\n",
              "29877                            363\n",
              "29885                            306\n",
              "30397                            284\n",
              "release_capmaign                 259\n",
              "landing_email                    229\n",
              "29931                            198\n",
              "Cindicator Website QR            181\n",
              "CND_App-Stoic                    129\n",
              "Android Store Link               127\n",
              "29929                            125\n",
              "English AMA                      100\n",
              "Apple Store Website Link          90\n",
              "29873                             87\n",
              "Blog                              61\n",
              "US - Broad                        60\n",
              "30398                             42\n",
              "29882                             42\n",
              "29891                             36\n",
              "Tweets                            31\n",
              "US - Keywords                     26\n",
              "The Crypto Hamster                24\n",
              "Other - Keywords                  22\n",
              "Stoic portfolio - 1516880502      14\n",
              "None                              14\n",
              "twitter                           10\n",
              "Tik Tok The Wolf of Bitcoins       9\n",
              "mojkripto.com                      8\n",
              "US_keywords                        7\n",
              "Russia - Keywords                  7\n",
              "blog                               6\n",
              "Macro Sentiments                   5\n",
              "France - Keywords                  5\n",
              "Saudi Arabia - Keywords            4\n",
              "release facebook                   4\n",
              "blockfolio                         4\n",
              "UAE - Keywords                     4\n",
              "Germany - Keywords                 3\n",
              "Singapore - Keywords               3\n",
              "Nederlands - Keywords              3\n",
              "UK - Keywords                      2\n",
              "29884                              2\n",
              "Canada - Keywords                  2\n",
              "Spain - Keywords                   2\n",
              "Wordlwide_Brand                    2\n",
              "Japan - Keywords                   2\n",
              "cointraffic_ads                    1\n",
              "release medium                     1\n",
              "Australia - Keywords               1\n",
              "New Zealand - Keywords             1\n",
              "Name: gp:capmaign, dtype: int64"
            ]
          },
          "metadata": {
            "tags": []
          },
          "execution_count": 20
        }
      ]
    },
    {
      "cell_type": "code",
      "metadata": {
        "colab": {
          "base_uri": "https://localhost:8080/"
        },
        "id": "wJ--NJg8de3a",
        "outputId": "f8b4b4ab-9224-476f-dfb7-79a3ee7ce3e3"
      },
      "source": [
        "df['gp:media_source'].value_counts()"
      ],
      "execution_count": null,
      "outputs": [
        {
          "output_type": "execute_result",
          "data": {
            "text/plain": [
              "bidease_int           2546\n",
              "landing                259\n",
              "landing_email          229\n",
              "Cindicator Website     217\n",
              "QR_code                181\n",
              "Apple Search Ads       170\n",
              "Cross_sale             142\n",
              "Binance                100\n",
              "Blog                    61\n",
              "Social_twitter          41\n",
              "Telegram Promo          24\n",
              "mail.ru_int             13\n",
              "Tik Tok                  9\n",
              "blog                     6\n",
              "Social_facebook          4\n",
              "blockfolio               4\n",
              "None                     1\n",
              "cointraffic              1\n",
              "medium                   1\n",
              "Name: gp:media_source, dtype: int64"
            ]
          },
          "metadata": {
            "tags": []
          },
          "execution_count": 21
        }
      ]
    },
    {
      "cell_type": "markdown",
      "metadata": {
        "id": "ShD3M2sCel2M"
      },
      "source": [
        "Вау. Самые массовые кампании (по количеству пользователей) носят самы загадочные названия. Надеюсь, что сотрудники которые могут сразу идентифицировать ту информацию еще работают в штате )\n",
        "\n",
        "С названием источников ситуация сильно лучше, они осмысленные )"
      ]
    },
    {
      "cell_type": "code",
      "metadata": {
        "colab": {
          "base_uri": "https://localhost:8080/",
          "height": 638
        },
        "id": "p58QEVmKeIo5",
        "outputId": "b1f4aeb1-c0fe-4079-cf66-f0652bab6ed4"
      },
      "source": [
        "# Не самое красивое решение )  \n",
        "left = df.pivot_table(index='gp:media_source', aggfunc={'email':'count'}).reset_index()\n",
        "right = df.pivot_table(index='gp:media_source', columns='gp:is_demo', aggfunc={'email':'count'}).rename(columns={'False':'demo_false', 'True':'demo_true'})\n",
        "right.columns = right.columns.droplevel()\n",
        "\n",
        "result = left.join(right, on='gp:media_source')\n",
        "result['demo_false_conv'] = result['demo_false'] / result['email'] * 100\n",
        "result.sort_values(by='demo_false_conv', ascending=False)"
      ],
      "execution_count": null,
      "outputs": [
        {
          "output_type": "execute_result",
          "data": {
            "text/html": [
              "<div>\n",
              "<style scoped>\n",
              "    .dataframe tbody tr th:only-of-type {\n",
              "        vertical-align: middle;\n",
              "    }\n",
              "\n",
              "    .dataframe tbody tr th {\n",
              "        vertical-align: top;\n",
              "    }\n",
              "\n",
              "    .dataframe thead th {\n",
              "        text-align: right;\n",
              "    }\n",
              "</style>\n",
              "<table border=\"1\" class=\"dataframe\">\n",
              "  <thead>\n",
              "    <tr style=\"text-align: right;\">\n",
              "      <th></th>\n",
              "      <th>gp:media_source</th>\n",
              "      <th>email</th>\n",
              "      <th>demo_false</th>\n",
              "      <th>demo_true</th>\n",
              "      <th>demo_false_conv</th>\n",
              "    </tr>\n",
              "  </thead>\n",
              "  <tbody>\n",
              "    <tr>\n",
              "      <th>5</th>\n",
              "      <td>None</td>\n",
              "      <td>1</td>\n",
              "      <td>1.0</td>\n",
              "      <td>NaN</td>\n",
              "      <td>100.000000</td>\n",
              "    </tr>\n",
              "    <tr>\n",
              "      <th>16</th>\n",
              "      <td>landing_email</td>\n",
              "      <td>229</td>\n",
              "      <td>47.0</td>\n",
              "      <td>154.0</td>\n",
              "      <td>20.524017</td>\n",
              "    </tr>\n",
              "    <tr>\n",
              "      <th>2</th>\n",
              "      <td>Blog</td>\n",
              "      <td>61</td>\n",
              "      <td>11.0</td>\n",
              "      <td>36.0</td>\n",
              "      <td>18.032787</td>\n",
              "    </tr>\n",
              "    <tr>\n",
              "      <th>15</th>\n",
              "      <td>landing</td>\n",
              "      <td>259</td>\n",
              "      <td>45.0</td>\n",
              "      <td>175.0</td>\n",
              "      <td>17.374517</td>\n",
              "    </tr>\n",
              "    <tr>\n",
              "      <th>13</th>\n",
              "      <td>blog</td>\n",
              "      <td>6</td>\n",
              "      <td>1.0</td>\n",
              "      <td>3.0</td>\n",
              "      <td>16.666667</td>\n",
              "    </tr>\n",
              "    <tr>\n",
              "      <th>6</th>\n",
              "      <td>QR_code</td>\n",
              "      <td>181</td>\n",
              "      <td>23.0</td>\n",
              "      <td>134.0</td>\n",
              "      <td>12.707182</td>\n",
              "    </tr>\n",
              "    <tr>\n",
              "      <th>9</th>\n",
              "      <td>Telegram Promo</td>\n",
              "      <td>24</td>\n",
              "      <td>3.0</td>\n",
              "      <td>14.0</td>\n",
              "      <td>12.500000</td>\n",
              "    </tr>\n",
              "    <tr>\n",
              "      <th>3</th>\n",
              "      <td>Cindicator Website</td>\n",
              "      <td>217</td>\n",
              "      <td>12.0</td>\n",
              "      <td>187.0</td>\n",
              "      <td>5.529954</td>\n",
              "    </tr>\n",
              "    <tr>\n",
              "      <th>8</th>\n",
              "      <td>Social_twitter</td>\n",
              "      <td>41</td>\n",
              "      <td>2.0</td>\n",
              "      <td>31.0</td>\n",
              "      <td>4.878049</td>\n",
              "    </tr>\n",
              "    <tr>\n",
              "      <th>4</th>\n",
              "      <td>Cross_sale</td>\n",
              "      <td>142</td>\n",
              "      <td>4.0</td>\n",
              "      <td>119.0</td>\n",
              "      <td>2.816901</td>\n",
              "    </tr>\n",
              "    <tr>\n",
              "      <th>0</th>\n",
              "      <td>Apple Search Ads</td>\n",
              "      <td>170</td>\n",
              "      <td>1.0</td>\n",
              "      <td>112.0</td>\n",
              "      <td>0.588235</td>\n",
              "    </tr>\n",
              "    <tr>\n",
              "      <th>11</th>\n",
              "      <td>bidease_int</td>\n",
              "      <td>2546</td>\n",
              "      <td>2.0</td>\n",
              "      <td>1873.0</td>\n",
              "      <td>0.078555</td>\n",
              "    </tr>\n",
              "    <tr>\n",
              "      <th>1</th>\n",
              "      <td>Binance</td>\n",
              "      <td>100</td>\n",
              "      <td>NaN</td>\n",
              "      <td>95.0</td>\n",
              "      <td>NaN</td>\n",
              "    </tr>\n",
              "    <tr>\n",
              "      <th>7</th>\n",
              "      <td>Social_facebook</td>\n",
              "      <td>4</td>\n",
              "      <td>NaN</td>\n",
              "      <td>4.0</td>\n",
              "      <td>NaN</td>\n",
              "    </tr>\n",
              "    <tr>\n",
              "      <th>10</th>\n",
              "      <td>Tik Tok</td>\n",
              "      <td>9</td>\n",
              "      <td>NaN</td>\n",
              "      <td>7.0</td>\n",
              "      <td>NaN</td>\n",
              "    </tr>\n",
              "    <tr>\n",
              "      <th>12</th>\n",
              "      <td>blockfolio</td>\n",
              "      <td>4</td>\n",
              "      <td>NaN</td>\n",
              "      <td>4.0</td>\n",
              "      <td>NaN</td>\n",
              "    </tr>\n",
              "    <tr>\n",
              "      <th>14</th>\n",
              "      <td>cointraffic</td>\n",
              "      <td>1</td>\n",
              "      <td>NaN</td>\n",
              "      <td>1.0</td>\n",
              "      <td>NaN</td>\n",
              "    </tr>\n",
              "    <tr>\n",
              "      <th>17</th>\n",
              "      <td>mail.ru_int</td>\n",
              "      <td>13</td>\n",
              "      <td>NaN</td>\n",
              "      <td>10.0</td>\n",
              "      <td>NaN</td>\n",
              "    </tr>\n",
              "    <tr>\n",
              "      <th>18</th>\n",
              "      <td>medium</td>\n",
              "      <td>1</td>\n",
              "      <td>NaN</td>\n",
              "      <td>1.0</td>\n",
              "      <td>NaN</td>\n",
              "    </tr>\n",
              "  </tbody>\n",
              "</table>\n",
              "</div>"
            ],
            "text/plain": [
              "       gp:media_source  email  demo_false  demo_true  demo_false_conv\n",
              "5                 None      1         1.0        NaN       100.000000\n",
              "16       landing_email    229        47.0      154.0        20.524017\n",
              "2                 Blog     61        11.0       36.0        18.032787\n",
              "15             landing    259        45.0      175.0        17.374517\n",
              "13                blog      6         1.0        3.0        16.666667\n",
              "6              QR_code    181        23.0      134.0        12.707182\n",
              "9       Telegram Promo     24         3.0       14.0        12.500000\n",
              "3   Cindicator Website    217        12.0      187.0         5.529954\n",
              "8       Social_twitter     41         2.0       31.0         4.878049\n",
              "4           Cross_sale    142         4.0      119.0         2.816901\n",
              "0     Apple Search Ads    170         1.0      112.0         0.588235\n",
              "11         bidease_int   2546         2.0     1873.0         0.078555\n",
              "1              Binance    100         NaN       95.0              NaN\n",
              "7      Social_facebook      4         NaN        4.0              NaN\n",
              "10             Tik Tok      9         NaN        7.0              NaN\n",
              "12          blockfolio      4         NaN        4.0              NaN\n",
              "14         cointraffic      1         NaN        1.0              NaN\n",
              "17         mail.ru_int     13         NaN       10.0              NaN\n",
              "18              medium      1         NaN        1.0              NaN"
            ]
          },
          "metadata": {
            "tags": []
          },
          "execution_count": 22
        }
      ]
    },
    {
      "cell_type": "markdown",
      "metadata": {
        "id": "BV_Pm1Y7S3ge"
      },
      "source": [
        "Итак, \n",
        "- Источник с 100% конверсией скорее всего следствие каких-то экспериментов/тестов \n",
        "- `landing_email` - предположу, что это рассылка по пользователям оставившим email на лендинге. И конверсия достаточно хорошая. Значит на лендинг приводится целевой трафик и потом с ним идет дополнительная работа через рассылки. \n",
        "- `Blog` - здесь вроде тоже все понятно, целевой контент в блоге => целевые посетители => целевые действия\n",
        "- `landing` - видимо прямая продажа сразу через лендинг. Вопросов нет. \n",
        "\n",
        "А вот есть вопросы к следующему:\n",
        "- разное написание одинаковых источников это не круто, но это мелочи. \n",
        "- `bidease_int` - если я правильно идентифицировал источник, то это Mobile Programmatic Platform BIDEASE и с конверсией платящих пользователей пока все очень и очень плохо. Текущий набор данных не позволяет (или я не увидел) отследить конверсию из demo_true в demo_false, поэтому при оценке \"в лоб\" данный источник проигрывает всем остальным. Интересно сколько бюджета было потрачено на эту активность?\n"
      ]
    },
    {
      "cell_type": "markdown",
      "metadata": {
        "id": "ZV04Y7rITFfH"
      },
      "source": [
        "## Другие важные параметры юнит-экономики продукта"
      ]
    },
    {
      "cell_type": "markdown",
      "metadata": {
        "id": "yvKQi5GLTxuC"
      },
      "source": [
        "DAU, WAU, MAU\n"
      ]
    },
    {
      "cell_type": "code",
      "metadata": {
        "colab": {
          "base_uri": "https://localhost:8080/"
        },
        "id": "63oSQlK7S5iD",
        "outputId": "d3e3f6f9-3a09-4752-f804-3ab0ee91bf9d"
      },
      "source": [
        "dauwaumau = df[df['cohort_date'].notnull()][['email', 'cohort_date']]\n",
        "dauwaumau['cohort_year'] = dauwaumau['cohort_date'].dt.year\n",
        "dauwaumau['cohort_month'] = dauwaumau['cohort_date'].astype('datetime64[M]')\n",
        "dauwaumau['cohort_week'] = dauwaumau['cohort_date'].dt.week\n",
        "\n",
        "DAU = int(dauwaumau\n",
        "          .reset_index()\n",
        "          .groupby('cohort_date').agg({'email':'nunique'}).mean())\n",
        "WAU = int(dauwaumau\n",
        "          .reset_index()\n",
        "          .groupby(['cohort_year', 'cohort_week']).agg({'email':'nunique'}).mean())\n",
        "MAU = int(dauwaumau\n",
        "          .reset_index()\n",
        "          .groupby(['cohort_year', 'cohort_month']).agg({'email':'nunique'}).mean())"
      ],
      "execution_count": null,
      "outputs": [
        {
          "output_type": "stream",
          "text": [
            "/usr/local/lib/python3.6/dist-packages/ipykernel_launcher.py:4: FutureWarning:\n",
            "\n",
            "Series.dt.weekofyear and Series.dt.week have been deprecated.  Please use Series.dt.isocalendar().week instead.\n",
            "\n"
          ],
          "name": "stderr"
        }
      ]
    },
    {
      "cell_type": "code",
      "metadata": {
        "colab": {
          "base_uri": "https://localhost:8080/",
          "height": 542
        },
        "id": "96BF2Sx6S5Q-",
        "outputId": "1042ed41-cbdf-446f-a729-6e8bd4f27005"
      },
      "source": [
        "fig = go.Figure(\n",
        "    data=[go.Bar(\n",
        "        y=[DAU, WAU, MAU],\n",
        "        x=['DAU','WAU','MAU'])])\n",
        "\n",
        "fig.update_layout(\n",
        "    title={\n",
        "        'text': 'Пользовательская активность: DAU, WAU, MAU',\n",
        "        'x':0.5,\n",
        "        'xanchor': 'center',\n",
        "        'yanchor': 'top'},\n",
        "    yaxis_title='Количество уникальных пользователей',)\n",
        "\n",
        "fig.show()"
      ],
      "execution_count": null,
      "outputs": [
        {
          "output_type": "display_data",
          "data": {
            "text/html": [
              "<html>\n",
              "<head><meta charset=\"utf-8\" /></head>\n",
              "<body>\n",
              "    <div>\n",
              "            <script src=\"https://cdnjs.cloudflare.com/ajax/libs/mathjax/2.7.5/MathJax.js?config=TeX-AMS-MML_SVG\"></script><script type=\"text/javascript\">if (window.MathJax) {MathJax.Hub.Config({SVG: {font: \"STIX-Web\"}});}</script>\n",
              "                <script type=\"text/javascript\">window.PlotlyConfig = {MathJaxConfig: 'local'};</script>\n",
              "        <script src=\"https://cdn.plot.ly/plotly-latest.min.js\"></script>    \n",
              "            <div id=\"e9da681a-f735-4c7b-90ec-de1eeca8ca33\" class=\"plotly-graph-div\" style=\"height:525px; width:100%;\"></div>\n",
              "            <script type=\"text/javascript\">\n",
              "                \n",
              "                    window.PLOTLYENV=window.PLOTLYENV || {};\n",
              "                    \n",
              "                if (document.getElementById(\"e9da681a-f735-4c7b-90ec-de1eeca8ca33\")) {\n",
              "                    Plotly.newPlot(\n",
              "                        'e9da681a-f735-4c7b-90ec-de1eeca8ca33',\n",
              "                        [{\"type\": \"bar\", \"x\": [\"DAU\", \"WAU\", \"MAU\"], \"y\": [21, 119, 388]}],\n",
              "                        {\"template\": {\"data\": {\"bar\": [{\"error_x\": {\"color\": \"#2a3f5f\"}, \"error_y\": {\"color\": \"#2a3f5f\"}, \"marker\": {\"line\": {\"color\": \"#E5ECF6\", \"width\": 0.5}}, \"type\": \"bar\"}], \"barpolar\": [{\"marker\": {\"line\": {\"color\": \"#E5ECF6\", \"width\": 0.5}}, \"type\": \"barpolar\"}], \"carpet\": [{\"aaxis\": {\"endlinecolor\": \"#2a3f5f\", \"gridcolor\": \"white\", \"linecolor\": \"white\", \"minorgridcolor\": \"white\", \"startlinecolor\": \"#2a3f5f\"}, \"baxis\": {\"endlinecolor\": \"#2a3f5f\", \"gridcolor\": \"white\", \"linecolor\": \"white\", \"minorgridcolor\": \"white\", \"startlinecolor\": \"#2a3f5f\"}, \"type\": \"carpet\"}], \"choropleth\": [{\"colorbar\": {\"outlinewidth\": 0, \"ticks\": \"\"}, \"type\": \"choropleth\"}], \"contour\": [{\"colorbar\": {\"outlinewidth\": 0, \"ticks\": \"\"}, \"colorscale\": [[0.0, \"#0d0887\"], [0.1111111111111111, \"#46039f\"], [0.2222222222222222, \"#7201a8\"], [0.3333333333333333, \"#9c179e\"], [0.4444444444444444, \"#bd3786\"], [0.5555555555555556, \"#d8576b\"], [0.6666666666666666, \"#ed7953\"], [0.7777777777777778, \"#fb9f3a\"], [0.8888888888888888, \"#fdca26\"], [1.0, \"#f0f921\"]], \"type\": \"contour\"}], \"contourcarpet\": [{\"colorbar\": {\"outlinewidth\": 0, \"ticks\": \"\"}, \"type\": \"contourcarpet\"}], \"heatmap\": [{\"colorbar\": {\"outlinewidth\": 0, \"ticks\": \"\"}, \"colorscale\": [[0.0, \"#0d0887\"], [0.1111111111111111, \"#46039f\"], [0.2222222222222222, \"#7201a8\"], [0.3333333333333333, \"#9c179e\"], [0.4444444444444444, \"#bd3786\"], [0.5555555555555556, \"#d8576b\"], [0.6666666666666666, \"#ed7953\"], [0.7777777777777778, \"#fb9f3a\"], [0.8888888888888888, \"#fdca26\"], [1.0, \"#f0f921\"]], \"type\": \"heatmap\"}], \"heatmapgl\": [{\"colorbar\": {\"outlinewidth\": 0, \"ticks\": \"\"}, \"colorscale\": [[0.0, \"#0d0887\"], [0.1111111111111111, \"#46039f\"], [0.2222222222222222, \"#7201a8\"], [0.3333333333333333, \"#9c179e\"], [0.4444444444444444, \"#bd3786\"], [0.5555555555555556, \"#d8576b\"], [0.6666666666666666, \"#ed7953\"], [0.7777777777777778, \"#fb9f3a\"], [0.8888888888888888, \"#fdca26\"], [1.0, \"#f0f921\"]], \"type\": \"heatmapgl\"}], \"histogram\": [{\"marker\": {\"colorbar\": {\"outlinewidth\": 0, \"ticks\": \"\"}}, \"type\": \"histogram\"}], \"histogram2d\": [{\"colorbar\": {\"outlinewidth\": 0, \"ticks\": \"\"}, \"colorscale\": [[0.0, \"#0d0887\"], [0.1111111111111111, \"#46039f\"], [0.2222222222222222, \"#7201a8\"], [0.3333333333333333, \"#9c179e\"], [0.4444444444444444, \"#bd3786\"], [0.5555555555555556, \"#d8576b\"], [0.6666666666666666, \"#ed7953\"], [0.7777777777777778, \"#fb9f3a\"], [0.8888888888888888, \"#fdca26\"], [1.0, \"#f0f921\"]], \"type\": \"histogram2d\"}], \"histogram2dcontour\": [{\"colorbar\": {\"outlinewidth\": 0, \"ticks\": \"\"}, \"colorscale\": [[0.0, \"#0d0887\"], [0.1111111111111111, \"#46039f\"], [0.2222222222222222, \"#7201a8\"], [0.3333333333333333, \"#9c179e\"], [0.4444444444444444, \"#bd3786\"], [0.5555555555555556, \"#d8576b\"], [0.6666666666666666, \"#ed7953\"], [0.7777777777777778, \"#fb9f3a\"], [0.8888888888888888, \"#fdca26\"], [1.0, \"#f0f921\"]], \"type\": \"histogram2dcontour\"}], \"mesh3d\": [{\"colorbar\": {\"outlinewidth\": 0, \"ticks\": \"\"}, \"type\": \"mesh3d\"}], \"parcoords\": [{\"line\": {\"colorbar\": {\"outlinewidth\": 0, \"ticks\": \"\"}}, \"type\": \"parcoords\"}], \"pie\": [{\"automargin\": true, \"type\": \"pie\"}], \"scatter\": [{\"marker\": {\"colorbar\": {\"outlinewidth\": 0, \"ticks\": \"\"}}, \"type\": \"scatter\"}], \"scatter3d\": [{\"line\": {\"colorbar\": {\"outlinewidth\": 0, \"ticks\": \"\"}}, \"marker\": {\"colorbar\": {\"outlinewidth\": 0, \"ticks\": \"\"}}, \"type\": \"scatter3d\"}], \"scattercarpet\": [{\"marker\": {\"colorbar\": {\"outlinewidth\": 0, \"ticks\": \"\"}}, \"type\": \"scattercarpet\"}], \"scattergeo\": [{\"marker\": {\"colorbar\": {\"outlinewidth\": 0, \"ticks\": \"\"}}, \"type\": \"scattergeo\"}], \"scattergl\": [{\"marker\": {\"colorbar\": {\"outlinewidth\": 0, \"ticks\": \"\"}}, \"type\": \"scattergl\"}], \"scattermapbox\": [{\"marker\": {\"colorbar\": {\"outlinewidth\": 0, \"ticks\": \"\"}}, \"type\": \"scattermapbox\"}], \"scatterpolar\": [{\"marker\": {\"colorbar\": {\"outlinewidth\": 0, \"ticks\": \"\"}}, \"type\": \"scatterpolar\"}], \"scatterpolargl\": [{\"marker\": {\"colorbar\": {\"outlinewidth\": 0, \"ticks\": \"\"}}, \"type\": \"scatterpolargl\"}], \"scatterternary\": [{\"marker\": {\"colorbar\": {\"outlinewidth\": 0, \"ticks\": \"\"}}, \"type\": \"scatterternary\"}], \"surface\": [{\"colorbar\": {\"outlinewidth\": 0, \"ticks\": \"\"}, \"colorscale\": [[0.0, \"#0d0887\"], [0.1111111111111111, \"#46039f\"], [0.2222222222222222, \"#7201a8\"], [0.3333333333333333, \"#9c179e\"], [0.4444444444444444, \"#bd3786\"], [0.5555555555555556, \"#d8576b\"], [0.6666666666666666, \"#ed7953\"], [0.7777777777777778, \"#fb9f3a\"], [0.8888888888888888, \"#fdca26\"], [1.0, \"#f0f921\"]], \"type\": \"surface\"}], \"table\": [{\"cells\": {\"fill\": {\"color\": \"#EBF0F8\"}, \"line\": {\"color\": \"white\"}}, \"header\": {\"fill\": {\"color\": \"#C8D4E3\"}, \"line\": {\"color\": \"white\"}}, \"type\": \"table\"}]}, \"layout\": {\"annotationdefaults\": {\"arrowcolor\": \"#2a3f5f\", \"arrowhead\": 0, \"arrowwidth\": 1}, \"coloraxis\": {\"colorbar\": {\"outlinewidth\": 0, \"ticks\": \"\"}}, \"colorscale\": {\"diverging\": [[0, \"#8e0152\"], [0.1, \"#c51b7d\"], [0.2, \"#de77ae\"], [0.3, \"#f1b6da\"], [0.4, \"#fde0ef\"], [0.5, \"#f7f7f7\"], [0.6, \"#e6f5d0\"], [0.7, \"#b8e186\"], [0.8, \"#7fbc41\"], [0.9, \"#4d9221\"], [1, \"#276419\"]], \"sequential\": [[0.0, \"#0d0887\"], [0.1111111111111111, \"#46039f\"], [0.2222222222222222, \"#7201a8\"], [0.3333333333333333, \"#9c179e\"], [0.4444444444444444, \"#bd3786\"], [0.5555555555555556, \"#d8576b\"], [0.6666666666666666, \"#ed7953\"], [0.7777777777777778, \"#fb9f3a\"], [0.8888888888888888, \"#fdca26\"], [1.0, \"#f0f921\"]], \"sequentialminus\": [[0.0, \"#0d0887\"], [0.1111111111111111, \"#46039f\"], [0.2222222222222222, \"#7201a8\"], [0.3333333333333333, \"#9c179e\"], [0.4444444444444444, \"#bd3786\"], [0.5555555555555556, \"#d8576b\"], [0.6666666666666666, \"#ed7953\"], [0.7777777777777778, \"#fb9f3a\"], [0.8888888888888888, \"#fdca26\"], [1.0, \"#f0f921\"]]}, \"colorway\": [\"#636efa\", \"#EF553B\", \"#00cc96\", \"#ab63fa\", \"#FFA15A\", \"#19d3f3\", \"#FF6692\", \"#B6E880\", \"#FF97FF\", \"#FECB52\"], \"font\": {\"color\": \"#2a3f5f\"}, \"geo\": {\"bgcolor\": \"white\", \"lakecolor\": \"white\", \"landcolor\": \"#E5ECF6\", \"showlakes\": true, \"showland\": true, \"subunitcolor\": \"white\"}, \"hoverlabel\": {\"align\": \"left\"}, \"hovermode\": \"closest\", \"mapbox\": {\"style\": \"light\"}, \"paper_bgcolor\": \"white\", \"plot_bgcolor\": \"#E5ECF6\", \"polar\": {\"angularaxis\": {\"gridcolor\": \"white\", \"linecolor\": \"white\", \"ticks\": \"\"}, \"bgcolor\": \"#E5ECF6\", \"radialaxis\": {\"gridcolor\": \"white\", \"linecolor\": \"white\", \"ticks\": \"\"}}, \"scene\": {\"xaxis\": {\"backgroundcolor\": \"#E5ECF6\", \"gridcolor\": \"white\", \"gridwidth\": 2, \"linecolor\": \"white\", \"showbackground\": true, \"ticks\": \"\", \"zerolinecolor\": \"white\"}, \"yaxis\": {\"backgroundcolor\": \"#E5ECF6\", \"gridcolor\": \"white\", \"gridwidth\": 2, \"linecolor\": \"white\", \"showbackground\": true, \"ticks\": \"\", \"zerolinecolor\": \"white\"}, \"zaxis\": {\"backgroundcolor\": \"#E5ECF6\", \"gridcolor\": \"white\", \"gridwidth\": 2, \"linecolor\": \"white\", \"showbackground\": true, \"ticks\": \"\", \"zerolinecolor\": \"white\"}}, \"shapedefaults\": {\"line\": {\"color\": \"#2a3f5f\"}}, \"ternary\": {\"aaxis\": {\"gridcolor\": \"white\", \"linecolor\": \"white\", \"ticks\": \"\"}, \"baxis\": {\"gridcolor\": \"white\", \"linecolor\": \"white\", \"ticks\": \"\"}, \"bgcolor\": \"#E5ECF6\", \"caxis\": {\"gridcolor\": \"white\", \"linecolor\": \"white\", \"ticks\": \"\"}}, \"title\": {\"x\": 0.05}, \"xaxis\": {\"automargin\": true, \"gridcolor\": \"white\", \"linecolor\": \"white\", \"ticks\": \"\", \"title\": {\"standoff\": 15}, \"zerolinecolor\": \"white\", \"zerolinewidth\": 2}, \"yaxis\": {\"automargin\": true, \"gridcolor\": \"white\", \"linecolor\": \"white\", \"ticks\": \"\", \"title\": {\"standoff\": 15}, \"zerolinecolor\": \"white\", \"zerolinewidth\": 2}}}, \"title\": {\"text\": \"\\u041f\\u043e\\u043b\\u044c\\u0437\\u043e\\u0432\\u0430\\u0442\\u0435\\u043b\\u044c\\u0441\\u043a\\u0430\\u044f \\u0430\\u043a\\u0442\\u0438\\u0432\\u043d\\u043e\\u0441\\u0442\\u044c: DAU, WAU, MAU\", \"x\": 0.5, \"xanchor\": \"center\", \"yanchor\": \"top\"}, \"yaxis\": {\"title\": {\"text\": \"\\u041a\\u043e\\u043b\\u0438\\u0447\\u0435\\u0441\\u0442\\u0432\\u043e \\u0443\\u043d\\u0438\\u043a\\u0430\\u043b\\u044c\\u043d\\u044b\\u0445 \\u043f\\u043e\\u043b\\u044c\\u0437\\u043e\\u0432\\u0430\\u0442\\u0435\\u043b\\u0435\\u0439\"}}},\n",
              "                        {\"responsive\": true}\n",
              "                    ).then(function(){\n",
              "                            \n",
              "var gd = document.getElementById('e9da681a-f735-4c7b-90ec-de1eeca8ca33');\n",
              "var x = new MutationObserver(function (mutations, observer) {{\n",
              "        var display = window.getComputedStyle(gd).display;\n",
              "        if (!display || display === 'none') {{\n",
              "            console.log([gd, 'removed!']);\n",
              "            Plotly.purge(gd);\n",
              "            observer.disconnect();\n",
              "        }}\n",
              "}});\n",
              "\n",
              "// Listen for the removal of the full notebook cells\n",
              "var notebookContainer = gd.closest('#notebook-container');\n",
              "if (notebookContainer) {{\n",
              "    x.observe(notebookContainer, {childList: true});\n",
              "}}\n",
              "\n",
              "// Listen for the clearing of the current output cell\n",
              "var outputEl = gd.closest('.output');\n",
              "if (outputEl) {{\n",
              "    x.observe(outputEl, {childList: true});\n",
              "}}\n",
              "\n",
              "                        })\n",
              "                };\n",
              "                \n",
              "            </script>\n",
              "        </div>\n",
              "</body>\n",
              "</html>"
            ]
          },
          "metadata": {
            "tags": []
          }
        }
      ]
    },
    {
      "cell_type": "markdown",
      "metadata": {
        "id": "j7j6850mW2yP"
      },
      "source": [
        "Вроде все достаточно логично и есть рост от DAU к WAU и к MAU. Но очевидно, что он не линейный и есть потери пользователей. Посмотрим на дополнительную метрику **sticky factor**"
      ]
    },
    {
      "cell_type": "code",
      "metadata": {
        "colab": {
          "base_uri": "https://localhost:8080/"
        },
        "id": "7HoPWDYoVHuX",
        "outputId": "76d562b1-4489-4a69-c320-1c0dc7c06e87"
      },
      "source": [
        "sticky_wau = DAU / WAU\n",
        "sticky_mau = DAU / MAU\n",
        "\n",
        "print('sticky factor WAU: {:.2%}'.format(sticky_wau))\n",
        "print('sticky factor MAU: {:.2%}'.format(sticky_mau))"
      ],
      "execution_count": null,
      "outputs": [
        {
          "output_type": "stream",
          "text": [
            "sticky factor WAU: 17.65%\n",
            "sticky factor MAU: 5.41%\n"
          ],
          "name": "stdout"
        }
      ]
    },
    {
      "cell_type": "markdown",
      "metadata": {
        "id": "MLkUxVYpXBjG"
      },
      "source": [
        "Получается, что регулярность посещения сервиса уникальными пользователями составляет:\n",
        "* 17.65% по неделям\n",
        "* 5.41% по месяцам\n",
        "Думаю, что было бы полезно сравнить эти значения с продуктами конкурентов (если есть такая возможность), а также с отраслевыми стандартами. Возможно, что стоит озадачиться увеличением данных значений и стимулировать аудиторию возвращаться как можно чаще."
      ]
    },
    {
      "cell_type": "markdown",
      "metadata": {
        "id": "vnCzk5cTXby7"
      },
      "source": [
        "### Buyers"
      ]
    },
    {
      "cell_type": "code",
      "metadata": {
        "id": "taYc7t3EXESd"
      },
      "source": [
        "left = (df\n",
        "        .pivot_table(index='cohort_date', aggfunc={'email':'nunique', 'payment_date':'count'})\n",
        "        .rename(columns={'email':'total_user', 'payment_date':'payment_user'}))\n",
        "\n",
        "right = (df[df['gp:is_demo']=='True']\n",
        "         .pivot_table(index='cohort_date', aggfunc={'payment_date':'count'})\n",
        "         .rename(columns={'payment_date':'money_user'}))\n",
        "\n",
        "result = left.join(right)"
      ],
      "execution_count": null,
      "outputs": []
    },
    {
      "cell_type": "code",
      "metadata": {
        "colab": {
          "base_uri": "https://localhost:8080/"
        },
        "id": "I0GNVKjRdUtj",
        "outputId": "2f2aa6b0-c640-4930-a509-2dff780d76b3"
      },
      "source": [
        "result.sum()"
      ],
      "execution_count": null,
      "outputs": [
        {
          "output_type": "execute_result",
          "data": {
            "text/plain": [
              "total_user      1555.0\n",
              "payment_user     238.0\n",
              "money_user        46.0\n",
              "dtype: float64"
            ]
          },
          "metadata": {
            "tags": []
          },
          "execution_count": 42
        }
      ]
    },
    {
      "cell_type": "markdown",
      "metadata": {
        "id": "m67bPCl3d9mT"
      },
      "source": [
        "- total_user - все пользователи у которых есть дата попадания в когорту\n",
        "- payment_user - все пользователи по которым есть запись о совершении платежа (без учета demo-аккаунт или нет)\n",
        "-  money_user - все пользователи по которым есть запись о совершении платежа и у них не demo-аккаунт \n",
        "\n",
        "Я не стал учитывать в данных расчетах пользователей без даты когорты/оплаты. К чистоте данных достаточно много вопросов. Не исключено, что пользователи без дат могут быть вообще их других временных периодов. А может и нет, но проверить это сейчас нельзя )"
      ]
    },
    {
      "cell_type": "code",
      "metadata": {
        "colab": {
          "base_uri": "https://localhost:8080/",
          "height": 542
        },
        "id": "R-pVPcfHYQlG",
        "outputId": "807ba373-3cdf-4171-e2ca-dda24ea75333"
      },
      "source": [
        "def my_scatter(data, title, y_title):\n",
        "    '''\n",
        "    Функция строит график по всем столбцам переданного DataFrame (data). \n",
        "    Важно, чтобы индекс передаваемого DataFrame был в формате даты. \n",
        "    title - указать название будущего графика\n",
        "    '''\n",
        "    fig = go.Figure()\n",
        "\n",
        "    for i in data.columns:\n",
        "        fig.add_trace(go.Scatter(\n",
        "            x=data.index,\n",
        "            y=data[i],\n",
        "            name=i,\n",
        "            mode='lines'\n",
        "        ))\n",
        "\n",
        "    fig.update_yaxes(title=y_title)\n",
        "\n",
        "    fig.update_layout(\n",
        "        title=title\n",
        "    )\n",
        "    \n",
        "    fig.show()\n",
        "\n",
        "my_scatter(result, 'Динамика пользователей', 'Количество пользователей ')"
      ],
      "execution_count": null,
      "outputs": [
        {
          "output_type": "display_data",
          "data": {
            "text/html": [
              "<html>\n",
              "<head><meta charset=\"utf-8\" /></head>\n",
              "<body>\n",
              "    <div>\n",
              "            <script src=\"https://cdnjs.cloudflare.com/ajax/libs/mathjax/2.7.5/MathJax.js?config=TeX-AMS-MML_SVG\"></script><script type=\"text/javascript\">if (window.MathJax) {MathJax.Hub.Config({SVG: {font: \"STIX-Web\"}});}</script>\n",
              "                <script type=\"text/javascript\">window.PlotlyConfig = {MathJaxConfig: 'local'};</script>\n",
              "        <script src=\"https://cdn.plot.ly/plotly-latest.min.js\"></script>    \n",
              "            <div id=\"2959b170-9357-4449-93f8-cbc3c2906448\" class=\"plotly-graph-div\" style=\"height:525px; width:100%;\"></div>\n",
              "            <script type=\"text/javascript\">\n",
              "                \n",
              "                    window.PLOTLYENV=window.PLOTLYENV || {};\n",
              "                    \n",
              "                if (document.getElementById(\"2959b170-9357-4449-93f8-cbc3c2906448\")) {\n",
              "                    Plotly.newPlot(\n",
              "                        '2959b170-9357-4449-93f8-cbc3c2906448',\n",
              "                        [{\"mode\": \"lines\", \"name\": \"total_user\", \"type\": \"scatter\", \"x\": [\"2020-10-31T00:00:00\", \"2020-11-01T00:00:00\", \"2020-11-02T00:00:00\", \"2020-11-03T00:00:00\", \"2020-11-04T00:00:00\", \"2020-11-05T00:00:00\", \"2020-11-06T00:00:00\", \"2020-11-07T00:00:00\", \"2020-11-08T00:00:00\", \"2020-11-09T00:00:00\", \"2020-11-10T00:00:00\", \"2020-11-11T00:00:00\", \"2020-11-12T00:00:00\", \"2020-11-13T00:00:00\", \"2020-11-14T00:00:00\", \"2020-11-15T00:00:00\", \"2020-11-16T00:00:00\", \"2020-11-17T00:00:00\", \"2020-11-18T00:00:00\", \"2020-11-19T00:00:00\", \"2020-11-20T00:00:00\", \"2020-11-21T00:00:00\", \"2020-11-22T00:00:00\", \"2020-11-23T00:00:00\", \"2020-11-24T00:00:00\", \"2020-11-25T00:00:00\", \"2020-11-26T00:00:00\", \"2020-11-27T00:00:00\", \"2020-11-28T00:00:00\", \"2020-11-29T00:00:00\", \"2020-11-30T00:00:00\", \"2020-12-01T00:00:00\", \"2020-12-02T00:00:00\", \"2020-12-03T00:00:00\", \"2020-12-04T00:00:00\", \"2020-12-05T00:00:00\", \"2020-12-06T00:00:00\", \"2020-12-07T00:00:00\", \"2020-12-08T00:00:00\", \"2020-12-09T00:00:00\", \"2020-12-10T00:00:00\", \"2020-12-11T00:00:00\", \"2020-12-12T00:00:00\", \"2020-12-13T00:00:00\", \"2020-12-14T00:00:00\", \"2020-12-15T00:00:00\", \"2020-12-16T00:00:00\", \"2020-12-17T00:00:00\", \"2020-12-18T00:00:00\", \"2020-12-19T00:00:00\", \"2020-12-20T00:00:00\", \"2020-12-21T00:00:00\", \"2020-12-22T00:00:00\", \"2020-12-23T00:00:00\", \"2020-12-24T00:00:00\", \"2020-12-25T00:00:00\", \"2020-12-26T00:00:00\", \"2020-12-27T00:00:00\", \"2020-12-28T00:00:00\", \"2020-12-29T00:00:00\", \"2020-12-30T00:00:00\", \"2020-12-31T00:00:00\", \"2021-01-01T00:00:00\", \"2021-01-02T00:00:00\", \"2021-01-03T00:00:00\", \"2021-01-04T00:00:00\", \"2021-01-05T00:00:00\", \"2021-01-06T00:00:00\", \"2021-01-07T00:00:00\", \"2021-01-08T00:00:00\", \"2021-01-09T00:00:00\", \"2021-01-10T00:00:00\", \"2021-01-11T00:00:00\", \"2021-01-12T00:00:00\"], \"y\": [1, 7, 3, 4, 3, 4, 13, 12, 11, 8, 9, 11, 2, 4, 2, 7, 5, 5, 2, 3, 1, 8, 3, 10, 8, 11, 22, 17, 18, 22, 26, 36, 31, 40, 31, 27, 32, 32, 42, 26, 44, 43, 21, 29, 20, 24, 21, 32, 30, 23, 30, 22, 29, 21, 14, 10, 17, 24, 23, 40, 31, 16, 21, 30, 37, 34, 36, 36, 39, 48, 42, 45, 47, 17]}, {\"mode\": \"lines\", \"name\": \"payment_user\", \"type\": \"scatter\", \"x\": [\"2020-10-31T00:00:00\", \"2020-11-01T00:00:00\", \"2020-11-02T00:00:00\", \"2020-11-03T00:00:00\", \"2020-11-04T00:00:00\", \"2020-11-05T00:00:00\", \"2020-11-06T00:00:00\", \"2020-11-07T00:00:00\", \"2020-11-08T00:00:00\", \"2020-11-09T00:00:00\", \"2020-11-10T00:00:00\", \"2020-11-11T00:00:00\", \"2020-11-12T00:00:00\", \"2020-11-13T00:00:00\", \"2020-11-14T00:00:00\", \"2020-11-15T00:00:00\", \"2020-11-16T00:00:00\", \"2020-11-17T00:00:00\", \"2020-11-18T00:00:00\", \"2020-11-19T00:00:00\", \"2020-11-20T00:00:00\", \"2020-11-21T00:00:00\", \"2020-11-22T00:00:00\", \"2020-11-23T00:00:00\", \"2020-11-24T00:00:00\", \"2020-11-25T00:00:00\", \"2020-11-26T00:00:00\", \"2020-11-27T00:00:00\", \"2020-11-28T00:00:00\", \"2020-11-29T00:00:00\", \"2020-11-30T00:00:00\", \"2020-12-01T00:00:00\", \"2020-12-02T00:00:00\", \"2020-12-03T00:00:00\", \"2020-12-04T00:00:00\", \"2020-12-05T00:00:00\", \"2020-12-06T00:00:00\", \"2020-12-07T00:00:00\", \"2020-12-08T00:00:00\", \"2020-12-09T00:00:00\", \"2020-12-10T00:00:00\", \"2020-12-11T00:00:00\", \"2020-12-12T00:00:00\", \"2020-12-13T00:00:00\", \"2020-12-14T00:00:00\", \"2020-12-15T00:00:00\", \"2020-12-16T00:00:00\", \"2020-12-17T00:00:00\", \"2020-12-18T00:00:00\", \"2020-12-19T00:00:00\", \"2020-12-20T00:00:00\", \"2020-12-21T00:00:00\", \"2020-12-22T00:00:00\", \"2020-12-23T00:00:00\", \"2020-12-24T00:00:00\", \"2020-12-25T00:00:00\", \"2020-12-26T00:00:00\", \"2020-12-27T00:00:00\", \"2020-12-28T00:00:00\", \"2020-12-29T00:00:00\", \"2020-12-30T00:00:00\", \"2020-12-31T00:00:00\", \"2021-01-01T00:00:00\", \"2021-01-02T00:00:00\", \"2021-01-03T00:00:00\", \"2021-01-04T00:00:00\", \"2021-01-05T00:00:00\", \"2021-01-06T00:00:00\", \"2021-01-07T00:00:00\", \"2021-01-08T00:00:00\", \"2021-01-09T00:00:00\", \"2021-01-10T00:00:00\", \"2021-01-11T00:00:00\", \"2021-01-12T00:00:00\"], \"y\": [0, 0, 0, 0, 0, 0, 0, 0, 0, 0, 0, 0, 0, 0, 0, 0, 0, 0, 0, 0, 0, 0, 0, 0, 0, 0, 1, 4, 4, 3, 5, 7, 4, 5, 6, 2, 4, 3, 7, 3, 5, 11, 4, 3, 3, 2, 3, 13, 3, 2, 5, 1, 9, 2, 2, 3, 3, 4, 5, 10, 4, 2, 4, 2, 5, 9, 7, 10, 9, 5, 11, 8, 7, 4]}, {\"mode\": \"lines\", \"name\": \"money_user\", \"type\": \"scatter\", \"x\": [\"2020-10-31T00:00:00\", \"2020-11-01T00:00:00\", \"2020-11-02T00:00:00\", \"2020-11-03T00:00:00\", \"2020-11-04T00:00:00\", \"2020-11-05T00:00:00\", \"2020-11-06T00:00:00\", \"2020-11-07T00:00:00\", \"2020-11-08T00:00:00\", \"2020-11-09T00:00:00\", \"2020-11-10T00:00:00\", \"2020-11-11T00:00:00\", \"2020-11-12T00:00:00\", \"2020-11-13T00:00:00\", \"2020-11-14T00:00:00\", \"2020-11-15T00:00:00\", \"2020-11-16T00:00:00\", \"2020-11-17T00:00:00\", \"2020-11-18T00:00:00\", \"2020-11-19T00:00:00\", \"2020-11-20T00:00:00\", \"2020-11-21T00:00:00\", \"2020-11-22T00:00:00\", \"2020-11-23T00:00:00\", \"2020-11-24T00:00:00\", \"2020-11-25T00:00:00\", \"2020-11-26T00:00:00\", \"2020-11-27T00:00:00\", \"2020-11-28T00:00:00\", \"2020-11-29T00:00:00\", \"2020-11-30T00:00:00\", \"2020-12-01T00:00:00\", \"2020-12-02T00:00:00\", \"2020-12-03T00:00:00\", \"2020-12-04T00:00:00\", \"2020-12-05T00:00:00\", \"2020-12-06T00:00:00\", \"2020-12-07T00:00:00\", \"2020-12-08T00:00:00\", \"2020-12-09T00:00:00\", \"2020-12-10T00:00:00\", \"2020-12-11T00:00:00\", \"2020-12-12T00:00:00\", \"2020-12-13T00:00:00\", \"2020-12-14T00:00:00\", \"2020-12-15T00:00:00\", \"2020-12-16T00:00:00\", \"2020-12-17T00:00:00\", \"2020-12-18T00:00:00\", \"2020-12-19T00:00:00\", \"2020-12-20T00:00:00\", \"2020-12-21T00:00:00\", \"2020-12-22T00:00:00\", \"2020-12-23T00:00:00\", \"2020-12-24T00:00:00\", \"2020-12-25T00:00:00\", \"2020-12-26T00:00:00\", \"2020-12-27T00:00:00\", \"2020-12-28T00:00:00\", \"2020-12-29T00:00:00\", \"2020-12-30T00:00:00\", \"2020-12-31T00:00:00\", \"2021-01-01T00:00:00\", \"2021-01-02T00:00:00\", \"2021-01-03T00:00:00\", \"2021-01-04T00:00:00\", \"2021-01-05T00:00:00\", \"2021-01-06T00:00:00\", \"2021-01-07T00:00:00\", \"2021-01-08T00:00:00\", \"2021-01-09T00:00:00\", \"2021-01-10T00:00:00\", \"2021-01-11T00:00:00\", \"2021-01-12T00:00:00\"], \"y\": [null, 0.0, 0.0, 0.0, 0.0, 0.0, 0.0, 0.0, 0.0, 0.0, 0.0, 0.0, 0.0, 0.0, 0.0, 0.0, 0.0, 0.0, 0.0, 0.0, null, 0.0, 0.0, 0.0, 0.0, 0.0, 0.0, 1.0, 0.0, 0.0, 0.0, 0.0, 0.0, 1.0, 0.0, 0.0, 0.0, 0.0, 1.0, 0.0, 0.0, 0.0, 0.0, 0.0, 0.0, 0.0, 0.0, 0.0, 0.0, 1.0, 1.0, 0.0, 0.0, 0.0, 1.0, 0.0, 0.0, 1.0, 2.0, 1.0, 0.0, 1.0, 0.0, 0.0, 3.0, 3.0, 2.0, 4.0, 6.0, 3.0, 8.0, 4.0, 2.0, 0.0]}],\n",
              "                        {\"template\": {\"data\": {\"bar\": [{\"error_x\": {\"color\": \"#2a3f5f\"}, \"error_y\": {\"color\": \"#2a3f5f\"}, \"marker\": {\"line\": {\"color\": \"#E5ECF6\", \"width\": 0.5}}, \"type\": \"bar\"}], \"barpolar\": [{\"marker\": {\"line\": {\"color\": \"#E5ECF6\", \"width\": 0.5}}, \"type\": \"barpolar\"}], \"carpet\": [{\"aaxis\": {\"endlinecolor\": \"#2a3f5f\", \"gridcolor\": \"white\", \"linecolor\": \"white\", \"minorgridcolor\": \"white\", \"startlinecolor\": \"#2a3f5f\"}, \"baxis\": {\"endlinecolor\": \"#2a3f5f\", \"gridcolor\": \"white\", \"linecolor\": \"white\", \"minorgridcolor\": \"white\", \"startlinecolor\": \"#2a3f5f\"}, \"type\": \"carpet\"}], \"choropleth\": [{\"colorbar\": {\"outlinewidth\": 0, \"ticks\": \"\"}, \"type\": \"choropleth\"}], \"contour\": [{\"colorbar\": {\"outlinewidth\": 0, \"ticks\": \"\"}, \"colorscale\": [[0.0, \"#0d0887\"], [0.1111111111111111, \"#46039f\"], [0.2222222222222222, \"#7201a8\"], [0.3333333333333333, \"#9c179e\"], [0.4444444444444444, \"#bd3786\"], [0.5555555555555556, \"#d8576b\"], [0.6666666666666666, \"#ed7953\"], [0.7777777777777778, \"#fb9f3a\"], [0.8888888888888888, \"#fdca26\"], [1.0, \"#f0f921\"]], \"type\": \"contour\"}], \"contourcarpet\": [{\"colorbar\": {\"outlinewidth\": 0, \"ticks\": \"\"}, \"type\": \"contourcarpet\"}], \"heatmap\": [{\"colorbar\": {\"outlinewidth\": 0, \"ticks\": \"\"}, \"colorscale\": [[0.0, \"#0d0887\"], [0.1111111111111111, \"#46039f\"], [0.2222222222222222, \"#7201a8\"], [0.3333333333333333, \"#9c179e\"], [0.4444444444444444, \"#bd3786\"], [0.5555555555555556, \"#d8576b\"], [0.6666666666666666, \"#ed7953\"], [0.7777777777777778, \"#fb9f3a\"], [0.8888888888888888, \"#fdca26\"], [1.0, \"#f0f921\"]], \"type\": \"heatmap\"}], \"heatmapgl\": [{\"colorbar\": {\"outlinewidth\": 0, \"ticks\": \"\"}, \"colorscale\": [[0.0, \"#0d0887\"], [0.1111111111111111, \"#46039f\"], [0.2222222222222222, \"#7201a8\"], [0.3333333333333333, \"#9c179e\"], [0.4444444444444444, \"#bd3786\"], [0.5555555555555556, \"#d8576b\"], [0.6666666666666666, \"#ed7953\"], [0.7777777777777778, \"#fb9f3a\"], [0.8888888888888888, \"#fdca26\"], [1.0, \"#f0f921\"]], \"type\": \"heatmapgl\"}], \"histogram\": [{\"marker\": {\"colorbar\": {\"outlinewidth\": 0, \"ticks\": \"\"}}, \"type\": \"histogram\"}], \"histogram2d\": [{\"colorbar\": {\"outlinewidth\": 0, \"ticks\": \"\"}, \"colorscale\": [[0.0, \"#0d0887\"], [0.1111111111111111, \"#46039f\"], [0.2222222222222222, \"#7201a8\"], [0.3333333333333333, \"#9c179e\"], [0.4444444444444444, \"#bd3786\"], [0.5555555555555556, \"#d8576b\"], [0.6666666666666666, \"#ed7953\"], [0.7777777777777778, \"#fb9f3a\"], [0.8888888888888888, \"#fdca26\"], [1.0, \"#f0f921\"]], \"type\": \"histogram2d\"}], \"histogram2dcontour\": [{\"colorbar\": {\"outlinewidth\": 0, \"ticks\": \"\"}, \"colorscale\": [[0.0, \"#0d0887\"], [0.1111111111111111, \"#46039f\"], [0.2222222222222222, \"#7201a8\"], [0.3333333333333333, \"#9c179e\"], [0.4444444444444444, \"#bd3786\"], [0.5555555555555556, \"#d8576b\"], [0.6666666666666666, \"#ed7953\"], [0.7777777777777778, \"#fb9f3a\"], [0.8888888888888888, \"#fdca26\"], [1.0, \"#f0f921\"]], \"type\": \"histogram2dcontour\"}], \"mesh3d\": [{\"colorbar\": {\"outlinewidth\": 0, \"ticks\": \"\"}, \"type\": \"mesh3d\"}], \"parcoords\": [{\"line\": {\"colorbar\": {\"outlinewidth\": 0, \"ticks\": \"\"}}, \"type\": \"parcoords\"}], \"pie\": [{\"automargin\": true, \"type\": \"pie\"}], \"scatter\": [{\"marker\": {\"colorbar\": {\"outlinewidth\": 0, \"ticks\": \"\"}}, \"type\": \"scatter\"}], \"scatter3d\": [{\"line\": {\"colorbar\": {\"outlinewidth\": 0, \"ticks\": \"\"}}, \"marker\": {\"colorbar\": {\"outlinewidth\": 0, \"ticks\": \"\"}}, \"type\": \"scatter3d\"}], \"scattercarpet\": [{\"marker\": {\"colorbar\": {\"outlinewidth\": 0, \"ticks\": \"\"}}, \"type\": \"scattercarpet\"}], \"scattergeo\": [{\"marker\": {\"colorbar\": {\"outlinewidth\": 0, \"ticks\": \"\"}}, \"type\": \"scattergeo\"}], \"scattergl\": [{\"marker\": {\"colorbar\": {\"outlinewidth\": 0, \"ticks\": \"\"}}, \"type\": \"scattergl\"}], \"scattermapbox\": [{\"marker\": {\"colorbar\": {\"outlinewidth\": 0, \"ticks\": \"\"}}, \"type\": \"scattermapbox\"}], \"scatterpolar\": [{\"marker\": {\"colorbar\": {\"outlinewidth\": 0, \"ticks\": \"\"}}, \"type\": \"scatterpolar\"}], \"scatterpolargl\": [{\"marker\": {\"colorbar\": {\"outlinewidth\": 0, \"ticks\": \"\"}}, \"type\": \"scatterpolargl\"}], \"scatterternary\": [{\"marker\": {\"colorbar\": {\"outlinewidth\": 0, \"ticks\": \"\"}}, \"type\": \"scatterternary\"}], \"surface\": [{\"colorbar\": {\"outlinewidth\": 0, \"ticks\": \"\"}, \"colorscale\": [[0.0, \"#0d0887\"], [0.1111111111111111, \"#46039f\"], [0.2222222222222222, \"#7201a8\"], [0.3333333333333333, \"#9c179e\"], [0.4444444444444444, \"#bd3786\"], [0.5555555555555556, \"#d8576b\"], [0.6666666666666666, \"#ed7953\"], [0.7777777777777778, \"#fb9f3a\"], [0.8888888888888888, \"#fdca26\"], [1.0, \"#f0f921\"]], \"type\": \"surface\"}], \"table\": [{\"cells\": {\"fill\": {\"color\": \"#EBF0F8\"}, \"line\": {\"color\": \"white\"}}, \"header\": {\"fill\": {\"color\": \"#C8D4E3\"}, \"line\": {\"color\": \"white\"}}, \"type\": \"table\"}]}, \"layout\": {\"annotationdefaults\": {\"arrowcolor\": \"#2a3f5f\", \"arrowhead\": 0, \"arrowwidth\": 1}, \"coloraxis\": {\"colorbar\": {\"outlinewidth\": 0, \"ticks\": \"\"}}, \"colorscale\": {\"diverging\": [[0, \"#8e0152\"], [0.1, \"#c51b7d\"], [0.2, \"#de77ae\"], [0.3, \"#f1b6da\"], [0.4, \"#fde0ef\"], [0.5, \"#f7f7f7\"], [0.6, \"#e6f5d0\"], [0.7, \"#b8e186\"], [0.8, \"#7fbc41\"], [0.9, \"#4d9221\"], [1, \"#276419\"]], \"sequential\": [[0.0, \"#0d0887\"], [0.1111111111111111, \"#46039f\"], [0.2222222222222222, \"#7201a8\"], [0.3333333333333333, \"#9c179e\"], [0.4444444444444444, \"#bd3786\"], [0.5555555555555556, \"#d8576b\"], [0.6666666666666666, \"#ed7953\"], [0.7777777777777778, \"#fb9f3a\"], [0.8888888888888888, \"#fdca26\"], [1.0, \"#f0f921\"]], \"sequentialminus\": [[0.0, \"#0d0887\"], [0.1111111111111111, \"#46039f\"], [0.2222222222222222, \"#7201a8\"], [0.3333333333333333, \"#9c179e\"], [0.4444444444444444, \"#bd3786\"], [0.5555555555555556, \"#d8576b\"], [0.6666666666666666, \"#ed7953\"], [0.7777777777777778, \"#fb9f3a\"], [0.8888888888888888, \"#fdca26\"], [1.0, \"#f0f921\"]]}, \"colorway\": [\"#636efa\", \"#EF553B\", \"#00cc96\", \"#ab63fa\", \"#FFA15A\", \"#19d3f3\", \"#FF6692\", \"#B6E880\", \"#FF97FF\", \"#FECB52\"], \"font\": {\"color\": \"#2a3f5f\"}, \"geo\": {\"bgcolor\": \"white\", \"lakecolor\": \"white\", \"landcolor\": \"#E5ECF6\", \"showlakes\": true, \"showland\": true, \"subunitcolor\": \"white\"}, \"hoverlabel\": {\"align\": \"left\"}, \"hovermode\": \"closest\", \"mapbox\": {\"style\": \"light\"}, \"paper_bgcolor\": \"white\", \"plot_bgcolor\": \"#E5ECF6\", \"polar\": {\"angularaxis\": {\"gridcolor\": \"white\", \"linecolor\": \"white\", \"ticks\": \"\"}, \"bgcolor\": \"#E5ECF6\", \"radialaxis\": {\"gridcolor\": \"white\", \"linecolor\": \"white\", \"ticks\": \"\"}}, \"scene\": {\"xaxis\": {\"backgroundcolor\": \"#E5ECF6\", \"gridcolor\": \"white\", \"gridwidth\": 2, \"linecolor\": \"white\", \"showbackground\": true, \"ticks\": \"\", \"zerolinecolor\": \"white\"}, \"yaxis\": {\"backgroundcolor\": \"#E5ECF6\", \"gridcolor\": \"white\", \"gridwidth\": 2, \"linecolor\": \"white\", \"showbackground\": true, \"ticks\": \"\", \"zerolinecolor\": \"white\"}, \"zaxis\": {\"backgroundcolor\": \"#E5ECF6\", \"gridcolor\": \"white\", \"gridwidth\": 2, \"linecolor\": \"white\", \"showbackground\": true, \"ticks\": \"\", \"zerolinecolor\": \"white\"}}, \"shapedefaults\": {\"line\": {\"color\": \"#2a3f5f\"}}, \"ternary\": {\"aaxis\": {\"gridcolor\": \"white\", \"linecolor\": \"white\", \"ticks\": \"\"}, \"baxis\": {\"gridcolor\": \"white\", \"linecolor\": \"white\", \"ticks\": \"\"}, \"bgcolor\": \"#E5ECF6\", \"caxis\": {\"gridcolor\": \"white\", \"linecolor\": \"white\", \"ticks\": \"\"}}, \"title\": {\"x\": 0.05}, \"xaxis\": {\"automargin\": true, \"gridcolor\": \"white\", \"linecolor\": \"white\", \"ticks\": \"\", \"title\": {\"standoff\": 15}, \"zerolinecolor\": \"white\", \"zerolinewidth\": 2}, \"yaxis\": {\"automargin\": true, \"gridcolor\": \"white\", \"linecolor\": \"white\", \"ticks\": \"\", \"title\": {\"standoff\": 15}, \"zerolinecolor\": \"white\", \"zerolinewidth\": 2}}}, \"title\": {\"text\": \"\\u0414\\u0438\\u043d\\u0430\\u043c\\u0438\\u043a\\u0430 \\u043f\\u043e\\u043b\\u044c\\u0437\\u043e\\u0432\\u0430\\u0442\\u0435\\u043b\\u0435\\u0439\"}, \"yaxis\": {\"title\": {\"text\": \"\\u041a\\u043e\\u043b\\u0438\\u0447\\u0435\\u0441\\u0442\\u0432\\u043e \\u043f\\u043e\\u043b\\u044c\\u0437\\u043e\\u0432\\u0430\\u0442\\u0435\\u043b\\u0435\\u0439 \"}}},\n",
              "                        {\"responsive\": true}\n",
              "                    ).then(function(){\n",
              "                            \n",
              "var gd = document.getElementById('2959b170-9357-4449-93f8-cbc3c2906448');\n",
              "var x = new MutationObserver(function (mutations, observer) {{\n",
              "        var display = window.getComputedStyle(gd).display;\n",
              "        if (!display || display === 'none') {{\n",
              "            console.log([gd, 'removed!']);\n",
              "            Plotly.purge(gd);\n",
              "            observer.disconnect();\n",
              "        }}\n",
              "}});\n",
              "\n",
              "// Listen for the removal of the full notebook cells\n",
              "var notebookContainer = gd.closest('#notebook-container');\n",
              "if (notebookContainer) {{\n",
              "    x.observe(notebookContainer, {childList: true});\n",
              "}}\n",
              "\n",
              "// Listen for the clearing of the current output cell\n",
              "var outputEl = gd.closest('.output');\n",
              "if (outputEl) {{\n",
              "    x.observe(outputEl, {childList: true});\n",
              "}}\n",
              "\n",
              "                        })\n",
              "                };\n",
              "                \n",
              "            </script>\n",
              "        </div>\n",
              "</body>\n",
              "</html>"
            ]
          },
          "metadata": {
            "tags": []
          }
        }
      ]
    },
    {
      "cell_type": "markdown",
      "metadata": {
        "id": "EqOvLdjtf6E2"
      },
      "source": [
        "Похоже, что в начале января начали принимать активные действия по росту платящих пользователей. "
      ]
    },
    {
      "cell_type": "code",
      "metadata": {
        "id": "Ou9kCLYib5Xo"
      },
      "source": [
        "df.loc[(df['gp:is_demo']=='True')&(df['payment_date'].notnull()), 'money'] = 'yes'"
      ],
      "execution_count": null,
      "outputs": []
    },
    {
      "cell_type": "markdown",
      "metadata": {
        "id": "Cg-NcpDEf8Ru"
      },
      "source": [
        "### ARPU"
      ]
    },
    {
      "cell_type": "code",
      "metadata": {
        "colab": {
          "base_uri": "https://localhost:8080/"
        },
        "id": "5m9pzzpcgheB",
        "outputId": "c8d2f0c0-abee-4cab-aa4b-d2aa194cb79e"
      },
      "source": [
        "df[df['money']=='yes'].groupby('payment_date')['email'].count()"
      ],
      "execution_count": null,
      "outputs": [
        {
          "output_type": "execute_result",
          "data": {
            "text/plain": [
              "payment_date\n",
              "2020-11-27    1\n",
              "2020-12-03    1\n",
              "2020-12-09    1\n",
              "2020-12-20    1\n",
              "2020-12-23    1\n",
              "2020-12-25    1\n",
              "2020-12-26    1\n",
              "2020-12-28    2\n",
              "2020-12-29    1\n",
              "2020-12-31    2\n",
              "2021-01-02    1\n",
              "2021-01-03    2\n",
              "2021-01-04    5\n",
              "2021-01-05    2\n",
              "2021-01-06    3\n",
              "2021-01-07    6\n",
              "2021-01-08    3\n",
              "2021-01-09    7\n",
              "2021-01-10    5\n",
              "Name: email, dtype: int64"
            ]
          },
          "metadata": {
            "tags": []
          },
          "execution_count": 30
        }
      ]
    },
    {
      "cell_type": "markdown",
      "metadata": {
        "id": "RaD8GCuFhmW9"
      },
      "source": [
        "По хорошему ARPU надо считать за месяц. Но данных по оплатам так мало, что это все выглядит как-то грустно. Поэтому посчитаю его за весь временной период. "
      ]
    },
    {
      "cell_type": "code",
      "metadata": {
        "colab": {
          "base_uri": "https://localhost:8080/"
        },
        "id": "FJv7-4psfCcw",
        "outputId": "28ea6f7a-0345-4fe1-d02c-fc8e10c885da"
      },
      "source": [
        "df[df['money']=='yes']['amount'].sum() / df[df['money']=='yes']['email'].count()"
      ],
      "execution_count": null,
      "outputs": [
        {
          "output_type": "execute_result",
          "data": {
            "text/plain": [
              "87.02304347826087"
            ]
          },
          "metadata": {
            "tags": []
          },
          "execution_count": 31
        }
      ]
    },
    {
      "cell_type": "markdown",
      "metadata": {
        "id": "OD8_mszwhxpW"
      },
      "source": [
        "**Marketing cost**, **CPA**, **CAC**, **LTV**, **Retention**, **Margin** - все эти чудесные метрики нельзя сейчас рассчитать, так как нет исходных даных. Ну или я не вижу как это сделать, но тогда это полный провал )"
      ]
    },
    {
      "cell_type": "markdown",
      "metadata": {
        "id": "RcBkg4Hhinnx"
      },
      "source": [
        "# Ответ на вопрос №3"
      ]
    },
    {
      "cell_type": "markdown",
      "metadata": {
        "id": "Xa7NL18qi5uh"
      },
      "source": [
        "Попробую определить потенциальные проблемы зоны в механизмах сбора данных:\n",
        "- непечатные символы в выгрузках это проблема. Могут вылезти в самый неподходящий момент и сломать всю автоматизацию. Хорошо бы проверить все этапы ETL и сохранять в БД только данные, без табуляций и пробелов. \n",
        "- предоставленные данные содержат большое количество пропусков. Причем порой в очень странных местах. `gp:cohort_day` ,`gp:cohort_month` , `gp:cohort_year` - почему большая часть пользователей не имеет данные о дате? Это ошибка сбора или хранения? И, честно говоря, пока не очень понятно зачем дату хранить в разных метриках? Почему не хранить все в типе дата? \n",
        "- 'gp:cohort_year' как в автоматическую выгрузку из системы аналитики попали 2563, 2564? Ручной ввод? Ошибка? Где и почему?\n",
        "- `gp:is_demo` пожалуй можно назвать одной из ключевых метрик. Важно же понимать статус пользователя и когда он стал платящим? Но почему так много NaN? Неужели аналитика настроена так плохо, что данные не собираются? \n",
        "- `gp:capmaign` и `gp:media_source` и здесь опять пропуски, пропуски, пропуски. Откуда появились все эти пользователи без источников? Кто они? \n",
        "- `dma`, `device_type`, `city` пропуски в данных из-за оператора связи или что-то сломалось на этапе сбора и хранения информации? \n",
        "- Почему пользователи с одним email получают разные `amplitude_id`? Их оказалось всего 13, но ведь если это какой-то баг, то завтра таких пользователей может стать 130\n",
        "- У 54% пользователей с `payment_dt` нет данных в `cohort_date `и это странно. Получается, что эти пользователи не попали ни в какую когорту для аналитики, но они есть в платежках.\n",
        "- 'gp:capmaign' нужно прививать культуру нормального названия источников/кампаний )"
      ]
    },
    {
      "cell_type": "markdown",
      "metadata": {
        "id": "HGsoNq72oF5j"
      },
      "source": [
        "Можно было еще больше покопаться в даных и поискать взаимосвязь между конверсией и типом телефона/версией операционки/версией установленного приложения/регионом/городом. Но мне кажется, что общий уровень работы получится оценить и по уже готовому отчету )  "
      ]
    }
  ]
}